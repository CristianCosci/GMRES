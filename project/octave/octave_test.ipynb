{
 "cells": [
  {
   "cell_type": "code",
   "execution_count": 19,
   "metadata": {},
   "outputs": [],
   "source": [
    "clear"
   ]
  },
  {
   "cell_type": "code",
   "execution_count": 25,
   "metadata": {},
   "outputs": [],
   "source": [
    "function A = loadFunctionFromData(dataPath)\n",
    "    disp([\"🦍 Loading file: \"  dataPath])\n",
    "    load(dataPath)\n",
    "\n",
    "    if isstruct(Problem.A)\n",
    "        n = length(Problem.A.jc)-1;\n",
    "        ii = repelems(1:n, [1:n; diff(Problem.A.jc)]);\n",
    "        A = sparse(Problem.A.ir+1, ii, Problem.A.data);\n",
    "    else\n",
    "        A = Problem.A;\n",
    "    end\n",
    "endfunction"
   ]
  },
  {
   "cell_type": "code",
   "execution_count": 2,
   "metadata": {},
   "outputs": [
    {
     "name": "stdout",
     "output_type": "stream",
     "text": [
      "Variables in the current scope:\n",
      "\n",
      "   Attr Name        Size                     Bytes  Class\n",
      "   ==== ====        ====                     =====  ===== \n",
      "        ans         1x5                          5  char\n",
      "\n",
      "Total is 5 elements using 5 bytes\n",
      "\n"
     ]
    }
   ],
   "source": [
    "whos"
   ]
  },
  {
   "cell_type": "code",
   "execution_count": 26,
   "metadata": {},
   "outputs": [
    {
     "name": "stdout",
     "output_type": "stream",
     "text": [
      "🦍 Loading file: ./data/cage15.mat\n",
      "ans =  5154859\n",
      "ans =  5154859\n",
      "🦍 Loading file: ./data/vas_stokes_2M.mat\n",
      "ans =  2146677\n",
      "ans =  2146677\n"
     ]
    }
   ],
   "source": [
    "A = loadFunctionFromData('./data/cage15.mat');\n",
    "columns(A)\n",
    "rows(A)\n",
    "clear\n",
    "A = loadFunctionFromData('./data/vas_stokes_2M.mat');\n",
    "columns(A)\n",
    "rows(A)"
   ]
  },
  {
   "cell_type": "code",
   "execution_count": 17,
   "metadata": {},
   "outputs": [
    {
     "name": "stdout",
     "output_type": "stream",
     "text": [
      "Variables in the current scope:\n",
      "\n",
      "error: out of memory or dimension too large for Octave's index type\n",
      "Variables in the current scope:\n",
      "\n",
      "A    ans\n",
      "\n"
     ]
    }
   ],
   "source": [
    "whos\n",
    "who"
   ]
  }
 ],
 "metadata": {
  "kernelspec": {
   "display_name": "Octave",
   "language": "octave",
   "name": "octave"
  },
  "language_info": {
   "file_extension": ".m",
   "help_links": [
    {
     "text": "GNU Octave",
     "url": "https://www.gnu.org/software/octave/support.html"
    },
    {
     "text": "Octave Kernel",
     "url": "https://github.com/Calysto/octave_kernel"
    },
    {
     "text": "MetaKernel Magics",
     "url": "https://metakernel.readthedocs.io/en/latest/source/README.html"
    }
   ],
   "mimetype": "text/x-octave",
   "name": "octave",
   "version": "4.2.2"
  }
 },
 "nbformat": 4,
 "nbformat_minor": 2
}
