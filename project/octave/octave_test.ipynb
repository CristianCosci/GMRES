{
 "cells": [
  {
   "cell_type": "code",
   "execution_count": 19,
   "metadata": {},
   "outputs": [],
   "source": [
    "clear"
   ]
  },
  {
   "cell_type": "code",
   "execution_count": 25,
   "metadata": {},
   "outputs": [],
   "source": [
    "function A = loadFunctionFromData(dataPath)\n",
    "    disp([\"🦍 Loading file: \"  dataPath])\n",
    "    load(dataPath)\n",
    "\n",
    "    if isstruct(Problem.A)\n",
    "        n = length(Problem.A.jc)-1;\n",
    "        ii = repelems(1:n, [1:n; diff(Problem.A.jc)]);\n",
    "        A = sparse(Problem.A.ir+1, ii, Problem.A.data);\n",
    "    else\n",
    "        A = Problem.A;\n",
    "    end\n",
    "endfunction"
   ]
  },
  {
   "cell_type": "code",
   "execution_count": 2,
   "metadata": {},
   "outputs": [
    {
     "name": "stdout",
     "output_type": "stream",
     "text": [
      "Variables in the current scope:\n",
      "\n",
      "   Attr Name        Size                     Bytes  Class\n",
      "   ==== ====        ====                     =====  ===== \n",
      "        ans         1x5                          5  char\n",
      "\n",
      "Total is 5 elements using 5 bytes\n",
      "\n"
     ]
    }
   ],
   "source": [
    "whos"
   ]
  },
  {
   "cell_type": "code",
   "execution_count": 26,
   "metadata": {},
   "outputs": [
    {
     "name": "stdout",
     "output_type": "stream",
     "text": [
      "🦍 Loading file: ./data/cage15.mat\n",
      "ans =  5154859\n",
      "ans =  5154859\n",
      "🦍 Loading file: ./data/vas_stokes_2M.mat\n",
      "ans =  2146677\n",
      "ans =  2146677\n"
     ]
    }
   ],
   "source": [
    "A = loadFunctionFromData('./data/cage15.mat');\n",
    "columns(A)\n",
    "rows(A)\n",
    "clear\n",
    "A = loadFunctionFromData('./data/vas_stokes_2M.mat');\n",
    "columns(A)\n",
    "rows(A)"
   ]
  },
  {
   "cell_type": "code",
   "execution_count": 17,
   "metadata": {},
   "outputs": [
    {
     "name": "stdout",
     "output_type": "stream",
     "text": [
      "Variables in the current scope:\n",
      "\n",
      "error: out of memory or dimension too large for Octave's index type\n",
      "Variables in the current scope:\n",
      "\n",
      "A    ans\n",
      "\n"
     ]
    }
   ],
   "source": [
    "whos\n",
    "who"
   ]
  },
  {
   "cell_type": "code",
   "execution_count": null,
   "metadata": {},
   "outputs": [],
   "source": []
  },
  {
   "cell_type": "code",
   "execution_count": 53,
   "metadata": {},
   "outputs": [],
   "source": [
    "function [x, e] = gmres( A, b, x, max_iterations, threshold)\n",
    "  n = length(A);\n",
    "  m = max_iterations;\n",
    "\n",
    "  % use x as the initial vector\n",
    "  r = b - A * x;\n",
    "\n",
    "  b_norm = norm(b);\n",
    "  error = norm(r) / b_norm;\n",
    "\n",
    "  % initialize the 1D vectors\n",
    "  sn = zeros(m, 1);\n",
    "  cs = zeros(m, 1);\n",
    "  %e1 = zeros(n, 1);\n",
    "  e1 = zeros(m+1, 1);\n",
    "  e1(1) = 1;\n",
    "  e = [error];\n",
    "  r_norm = norm(r);\n",
    "  Q(:,1) = r / r_norm;\n",
    "  beta = r_norm * e1;     %Note: this is not the beta scalar in section \"The method\" above but the beta scalar multiplied by e1\n",
    "  for k = 1:m\n",
    "\n",
    "    % run arnoldi\n",
    "    [H(1:k+1, k) Q(:, k+1)] = arnoldi(A, Q, k);\n",
    "    \n",
    "    % eliminate the last element in H ith row and update the rotation matrix\n",
    "%     [H(1:k+1, k) cs(k) sn(k)] = apply_givens_rotation(H(1:k+1,k), cs, sn, k);\n",
    "    \n",
    "%     % update the residual vector\n",
    "%     beta(k + 1) = -sn(k) * beta(k);\n",
    "%     beta(k)     = cs(k) * beta(k);\n",
    "    error       = abs(beta(k + 1)) / b_norm;\n",
    "\n",
    "    % save the error\n",
    "    e = [e; error];\n",
    "\n",
    "    if (error <= threshold)\n",
    "      break;\n",
    "    end\n",
    "  end\n",
    "  % if threshold is not reached, k = m at this point (and not m+1) \n",
    "  \n",
    "  % calculate the result\n",
    "  y = H(1:k, 1:k) \\ beta(1:k);\n",
    "  x = x + Q(:, 1:k) * y;\n",
    "end\n",
    "\n",
    "%----------------------------------------------------%\n",
    "%                  Arnoldi Function                  %\n",
    "%----------------------------------------------------%\n",
    "function [h, q] = arnoldi(A, Q, k)\n",
    "  q = A*Q(:,k);   % Krylov Vector\n",
    "  for i = 1:k     % Modified Gram-Schmidt, keeping the Hessenberg matrix\n",
    "    h(i) = q' * Q(:, i);\n",
    "    q = q - h(i) * Q(:, i);\n",
    "  end\n",
    "  h(k + 1) = norm(q);\n",
    "  q = q / h(k + 1);\n",
    "end\n",
    "\n",
    "%---------------------------------------------------------------------%\n",
    "%                  Applying Givens Rotation to H col                  %\n",
    "%---------------------------------------------------------------------%\n",
    "function [h, cs_k, sn_k] = apply_givens_rotation(h, cs, sn, k)\n",
    "  % apply for ith column\n",
    "  for i = 1:k-1\n",
    "    temp   =  cs(i) * h(i) + sn(i) * h(i + 1);\n",
    "    h(i+1) = -sn(i) * h(i) + cs(i) * h(i + 1);\n",
    "    h(i)   = temp;\n",
    "  end\n",
    "\n",
    "  % update the next sin cos values for rotation\n",
    "  [cs_k sn_k] = givens_rotation(h(k), h(k + 1));\n",
    "\n",
    "  % eliminate H(i + 1, i)\n",
    "  h(k) = cs_k * h(k) + sn_k * h(k + 1);\n",
    "  h(k + 1) = 0.0;\n",
    "end\n",
    "\n",
    "%%----Calculate the Givens rotation matrix----%%\n",
    "function [cs, sn] = givens_rotation(v1, v2)\n",
    "%  if (v1 == 0)\n",
    "%    cs = 0;\n",
    "%    sn = 1;\n",
    "%  else\n",
    "    t = sqrt(v1^2 + v2^2);\n",
    "%    cs = abs(v1) / t;\n",
    "%    sn = cs * v2 / v1;\n",
    "    cs = v1 / t;  % see http://www.netlib.org/eispack/comqr.f\n",
    "    sn = v2 / t;\n",
    "%  end\n",
    "end"
   ]
  },
  {
   "cell_type": "code",
   "execution_count": null,
   "metadata": {},
   "outputs": [],
   "source": []
  },
  {
   "cell_type": "code",
   "execution_count": 2,
   "metadata": {},
   "outputs": [],
   "source": [
    "rand(\"seed\", 20);\n"
   ]
  },
  {
   "cell_type": "code",
   "execution_count": 3,
   "metadata": {},
   "outputs": [],
   "source": [
    "dim = 20;\n",
    "A = sprand(dim, dim, .5);\n",
    "b = rand(dim, 1);\n",
    "x0 = zeros(dim, 1);"
   ]
  },
  {
   "cell_type": "code",
   "execution_count": 54,
   "metadata": {},
   "outputs": [],
   "source": [
    " [ x, e ] = gmres(A, b, x0, 20, 1e-15);"
   ]
  },
  {
   "cell_type": "code",
   "execution_count": 55,
   "metadata": {},
   "outputs": [
    {
     "name": "stdout",
     "output_type": "stream",
     "text": [
      "x =\r\n",
      "\r\n",
      "   0.1362378\r\n",
      "   0.0748684\r\n",
      "   0.2018766\r\n",
      "   0.0379617\r\n",
      "   0.1573230\r\n",
      "   0.1127407\r\n",
      "   0.0072511\r\n",
      "   0.0530942\r\n",
      "   0.0975751\r\n",
      "   0.0317502\r\n",
      "   0.2136133\r\n",
      "   0.0022815\r\n",
      "   0.1011048\r\n",
      "   0.2721933\r\n",
      "   0.1780554\r\n",
      "   0.2397838\r\n",
      "   0.0442396\r\n",
      "   0.2030687\r\n",
      "   0.0553625\r\n",
      "   0.0237037\r\n",
      "\r\n"
     ]
    }
   ],
   "source": [
    "x"
   ]
  },
  {
   "cell_type": "code",
   "execution_count": 56,
   "metadata": {},
   "outputs": [
    {
     "name": "stdout",
     "output_type": "stream",
     "text": [
      "e =\r\n",
      "\r\n",
      "   1\r\n",
      "   0\r\n",
      "\r\n"
     ]
    }
   ],
   "source": [
    "e"
   ]
  },
  {
   "cell_type": "code",
   "execution_count": 57,
   "metadata": {},
   "outputs": [],
   "source": [
    "real_res = A\\b;"
   ]
  },
  {
   "cell_type": "code",
   "execution_count": 58,
   "metadata": {},
   "outputs": [
    {
     "name": "stdout",
     "output_type": "stream",
     "text": [
      "ans =\r\n",
      "\r\n",
      "  -0.589621\r\n",
      "  -0.075496\r\n",
      "  -0.226904\r\n",
      "   0.614768\r\n",
      "  -0.526069\r\n",
      "   0.264500\r\n",
      "  -1.047154\r\n",
      "  -0.490603\r\n",
      "  -0.119053\r\n",
      "   0.224256\r\n",
      "  -0.183607\r\n",
      "   0.698915\r\n",
      "   0.244459\r\n",
      "   0.629252\r\n",
      "   0.522637\r\n",
      "  -0.587955\r\n",
      "   0.219638\r\n",
      "  -0.159404\r\n",
      "   0.042200\r\n",
      "   0.030949\r\n",
      "\r\n"
     ]
    }
   ],
   "source": [
    "real_res - x"
   ]
  },
  {
   "cell_type": "code",
   "execution_count": 59,
   "metadata": {},
   "outputs": [
    {
     "name": "stdout",
     "output_type": "stream",
     "text": [
      "A =\r\n",
      "\r\n",
      "Compressed Column Sparse (rows = 20, cols = 20, nnz = 200 [50%])\r\n",
      "\r\n",
      "  (2, 1) ->  0.41217\r\n",
      "  (3, 1) ->  0.039193\r\n",
      "  (9, 1) ->  0.92475\r\n",
      "  (12, 1) ->  0.31320\r\n",
      "  (14, 1) ->  0.65118\r\n",
      "  (16, 1) ->  0.61071\r\n",
      "  (20, 1) ->  0.68544\r\n",
      "  (2, 2) ->  0.78087\r\n",
      "  (3, 2) ->  0.60937\r\n",
      "  (4, 2) ->  0.10632\r\n",
      "  (5, 2) ->  0.99955\r\n",
      "  (8, 2) ->  0.85510\r\n",
      "  (9, 2) ->  0.22975\r\n",
      "  (10, 2) ->  0.085235\r\n",
      "  (11, 2) ->  0.82960\r\n",
      "  (13, 2) ->  0.75684\r\n",
      "  (15, 2) ->  0.61077\r\n",
      "  (16, 2) ->  0.78227\r\n",
      "  (18, 2) ->  0.041342\r\n",
      "  (19, 2) ->  0.79346\r\n",
      "  (1, 3) ->  0.29006\r\n",
      "  (2, 3) ->  0.10126\r\n",
      "  (3, 3) ->  0.11989\r\n",
      "  (5, 3) ->  0.56749\r\n",
      "  (8, 3) ->  0.19417\r\n",
      "  (10, 3) ->  0.44313\r\n",
      "  (11, 3) ->  0.068074\r\n",
      "  (17, 3) ->  0.92143\r\n",
      "  (19, 3) ->  0.80411\r\n",
      "  (20, 3) ->  0.43728\r\n",
      "  (7, 4) ->  0.35427\r\n",
      "  (10, 4) ->  0.10302\r\n",
      "  (12, 4) ->  0.46300\r\n",
      "  (14, 4) ->  0.68933\r\n",
      "  (18, 4) ->  0.57330\r\n",
      "  (1, 5) ->  0.85270\r\n",
      "  (4, 5) ->  0.93643\r\n",
      "  (7, 5) ->  0.99590\r\n",
      "  (8, 5) ->  0.73317\r\n",
      "  (9, 5) ->  0.44636\r\n",
      "  (10, 5) ->  0.63989\r\n",
      "  (11, 5) ->  0.97170\r\n",
      "  (12, 5) ->  0.68865\r\n",
      "  (13, 5) ->  0.39980\r\n",
      "  (15, 5) ->  0.63403\r\n",
      "  (17, 5) ->  0.41633\r\n",
      "  (19, 5) ->  0.55044\r\n",
      "  (20, 5) ->  0.65016\r\n",
      "  (1, 6) ->  0.73116\r\n",
      "  (6, 6) ->  0.41279\r\n",
      "  (7, 6) ->  0.68487\r\n",
      "  (8, 6) ->  0.69529\r\n",
      "  (10, 6) ->  0.14766\r\n",
      "  (11, 6) ->  0.84414\r\n",
      "  (15, 6) ->  0.13048\r\n",
      "  (16, 6) ->  0.22091\r\n",
      "  (18, 6) ->  0.30850\r\n",
      "  (19, 6) ->  0.51112\r\n",
      "  (1, 7) ->  0.39241\r\n",
      "  (2, 7) ->  0.86211\r\n",
      "  (5, 7) ->  0.43743\r\n",
      "  (18, 7) ->  0.40647\r\n",
      "  (20, 7) ->  0.95454\r\n",
      "  (1, 8) ->  0.98576\r\n",
      "  (6, 8) ->  0.47117\r\n",
      "  (7, 8) ->  0.87933\r\n",
      "  (8, 8) ->  0.12335\r\n",
      "  (9, 8) ->  0.97877\r\n",
      "  (12, 8) ->  0.90373\r\n",
      "  (13, 8) ->  0.63587\r\n",
      "  (15, 8) ->  0.16484\r\n",
      "  (17, 8) ->  0.70847\r\n",
      "  (18, 8) ->  0.028624\r\n",
      "  (19, 8) ->  0.54659\r\n",
      "  (20, 8) ->  0.45249\r\n",
      "  (1, 9) ->  0.92298\r\n",
      "  (2, 9) ->  0.48560\r\n",
      "  (5, 9) ->  0.18883\r\n",
      "  (9, 9) ->  0.56116\r\n",
      "  (10, 9) ->  0.90303\r\n",
      "  (11, 9) ->  0.98216\r\n",
      "  (13, 9) ->  0.19965\r\n",
      "  (15, 9) ->  0.54503\r\n",
      "  (16, 9) ->  0.95449\r\n",
      "  (2, 10) ->  0.30385\r\n",
      "  (5, 10) ->  0.53311\r\n",
      "  (6, 10) ->  0.92988\r\n",
      "  (7, 10) ->  0.41122\r\n",
      "  (9, 10) ->  0.040013\r\n",
      "  (12, 10) ->  0.27009\r\n",
      "  (13, 10) ->  0.92961\r\n",
      "  (14, 10) ->  0.12045\r\n",
      "  (16, 10) ->  0.74265\r\n",
      "  (18, 10) ->  0.91196\r\n",
      "  (20, 10) ->  0.38644\r\n",
      "  (1, 11) ->  0.31721\r\n",
      "  (2, 11) ->  0.68992\r\n",
      "  (3, 11) ->  0.86699\r\n",
      "  (4, 11) ->  0.76848\r\n",
      "  (8, 11) ->  0.31933\r\n",
      "  (11, 11) ->  0.84947\r\n",
      "  (13, 11) ->  0.74659\r\n",
      "  (14, 11) ->  0.61536\r\n",
      "  (16, 11) ->  0.67505\r\n",
      "  (18, 11) ->  0.97703\r\n",
      "  (19, 11) ->  0.41840\r\n",
      "  (20, 11) ->  0.60685\r\n",
      "  (1, 12) ->  0.84739\r\n",
      "  (2, 12) ->  0.37952\r\n",
      "  (9, 12) ->  0.63686\r\n",
      "  (10, 12) ->  0.21733\r\n",
      "  (13, 12) ->  0.86877\r\n",
      "  (14, 12) ->  0.31100\r\n",
      "  (15, 12) ->  0.35937\r\n",
      "  (20, 12) ->  0.99692\r\n",
      "  (1, 13) ->  0.79926\r\n",
      "  (2, 13) ->  0.77933\r\n",
      "  (3, 13) ->  0.31236\r\n",
      "  (4, 13) ->  0.10072\r\n",
      "  (5, 13) ->  0.57953\r\n",
      "  (6, 13) ->  0.90475\r\n",
      "  (7, 13) ->  0.14251\r\n",
      "  (12, 13) ->  0.83369\r\n",
      "  (14, 13) ->  0.44277\r\n",
      "  (17, 13) ->  0.81543\r\n",
      "  (20, 13) ->  0.36250\r\n",
      "  (3, 14) ->  0.38455\r\n",
      "  (4, 14) ->  0.080804\r\n",
      "  (5, 14) ->  0.18409\r\n",
      "  (7, 14) ->  0.24594\r\n",
      "  (9, 14) ->  0.24596\r\n",
      "  (10, 14) ->  0.30554\r\n",
      "  (11, 14) ->  0.65207\r\n",
      "  (15, 14) ->  0.072044\r\n",
      "  (16, 14) ->  0.72408\r\n",
      "  (17, 14) ->  0.35265\r\n",
      "  (18, 14) ->  0.10775\r\n",
      "  (20, 14) ->  0.76545\r\n",
      "  (1, 15) ->  0.63372\r\n",
      "  (2, 15) ->  0.81838\r\n",
      "  (4, 15) ->  0.62178\r\n",
      "  (5, 15) ->  0.44858\r\n",
      "  (7, 15) ->  0.10363\r\n",
      "  (9, 15) ->  0.92587\r\n",
      "  (11, 15) ->  0.24884\r\n",
      "  (14, 15) ->  0.50602\r\n",
      "  (15, 15) ->  0.56476\r\n",
      "  (17, 15) ->  0.39272\r\n",
      "  (18, 15) ->  0.25290\r\n",
      "  (19, 15) ->  0.35299\r\n",
      "  (20, 15) ->  0.16006\r\n",
      "  (4, 16) ->  0.38448\r\n",
      "  (6, 16) ->  0.86961\r\n",
      "  (7, 16) ->  0.76947\r\n",
      "  (10, 16) ->  0.69355\r\n",
      "  (13, 16) ->  0.50216\r\n",
      "  (14, 16) ->  0.11768\r\n",
      "  (17, 16) ->  0.68176\r\n",
      "  (3, 17) ->  0.57320\r\n",
      "  (5, 17) ->  0.67155\r\n",
      "  (6, 17) ->  0.70782\r\n",
      "  (7, 17) ->  0.20810\r\n",
      "  (8, 17) ->  0.67960\r\n",
      "  (13, 17) ->  0.30552\r\n",
      "  (16, 17) ->  0.44849\r\n",
      "  (19, 17) ->  0.36204\r\n",
      "  (1, 18) ->  0.31949\r\n",
      "  (2, 18) ->  0.34164\r\n",
      "  (8, 18) ->  0.84777\r\n",
      "  (9, 18) ->  0.68518\r\n",
      "  (10, 18) ->  0.59069\r\n",
      "  (12, 18) ->  0.49849\r\n",
      "  (15, 18) ->  0.62876\r\n",
      "  (18, 18) ->  0.34832\r\n",
      "  (20, 18) ->  0.42207\r\n",
      "  (1, 19) ->  0.26035\r\n",
      "  (2, 19) ->  0.88567\r\n",
      "  (3, 19) ->  0.80028\r\n",
      "  (7, 19) ->  0.52522\r\n",
      "  (10, 19) ->  0.29140\r\n",
      "  (11, 19) ->  0.044780\r\n",
      "  (12, 19) ->  0.81844\r\n",
      "  (14, 19) ->  0.28776\r\n",
      "  (15, 19) ->  0.96124\r\n",
      "  (18, 19) ->  0.87300\r\n",
      "  (19, 19) ->  0.77609\r\n",
      "  (20, 19) ->  0.68232\r\n",
      "  (1, 20) ->  0.12033\r\n",
      "  (2, 20) ->  0.79781\r\n",
      "  (4, 20) ->  0.77542\r\n",
      "  (5, 20) ->  0.29887\r\n",
      "  (6, 20) ->  0.0068841\r\n",
      "  (8, 20) ->  0.41435\r\n",
      "  (10, 20) ->  0.20698\r\n",
      "  (12, 20) ->  0.69612\r\n",
      "  (14, 20) ->  0.21844\r\n",
      "  (15, 20) ->  0.77569\r\n",
      "  (16, 20) ->  0.93732\r\n",
      "  (19, 20) ->  0.50629\r\n",
      "  (20, 20) ->  0.079236\r\n",
      "\r\n"
     ]
    }
   ],
   "source": [
    "A"
   ]
  },
  {
   "cell_type": "code",
   "execution_count": 63,
   "metadata": {},
   "outputs": [],
   "source": [
    "ttt = load(\"../data/test.mst\");"
   ]
  },
  {
   "cell_type": "code",
   "execution_count": 69,
   "metadata": {},
   "outputs": [],
   "source": [
    "A = ttt.a;\n",
    "b = ttt.b;\n",
    "x0 = zeros(20, 1);"
   ]
  },
  {
   "cell_type": "code",
   "execution_count": 74,
   "metadata": {},
   "outputs": [],
   "source": [
    "[ x, e ] = gmres(A, b', x0, 20, 1e-15);"
   ]
  },
  {
   "cell_type": "code",
   "execution_count": 75,
   "metadata": {},
   "outputs": [
    {
     "name": "stdout",
     "output_type": "stream",
     "text": [
      "x =\n",
      "\n",
      "   0.0671786\n",
      "   0.0778803\n",
      "   0.1055276\n",
      "   0.0761267\n",
      "   0.1327323\n",
      "   0.0094638\n",
      "   0.0819292\n",
      "   0.1204225\n",
      "   0.1765256\n",
      "   0.0793504\n",
      "   0.0390035\n",
      "   0.0223154\n",
      "   0.2754362\n",
      "   0.1220134\n",
      "   0.1701944\n",
      "   0.2691823\n",
      "   0.0242330\n",
      "   0.2567317\n",
      "   0.1615334\n",
      "   0.0482720\n",
      "\n",
      "e =\n",
      "\n",
      "   1\n",
      "   0\n",
      "\n"
     ]
    }
   ],
   "source": [
    "x\n",
    "e"
   ]
  },
  {
   "cell_type": "code",
   "execution_count": 77,
   "metadata": {},
   "outputs": [
    {
     "name": "stdout",
     "output_type": "stream",
     "text": [
      "ans =\r\n",
      "\r\n",
      "  -2.022116\r\n",
      "   0.641929\r\n",
      "  -0.500320\r\n",
      "  -1.491304\r\n",
      "   0.239621\r\n",
      "  -0.922369\r\n",
      "  -0.097088\r\n",
      "  -0.571888\r\n",
      "   1.581124\r\n",
      "  -1.269419\r\n",
      "   1.954327\r\n",
      "   1.599065\r\n",
      "   0.198717\r\n",
      "  -3.526679\r\n",
      "  -2.267741\r\n",
      "  -0.432758\r\n",
      "   2.655671\r\n",
      "  -3.327171\r\n",
      "   0.981829\r\n",
      "   3.186030\r\n",
      "\r\n"
     ]
    }
   ],
   "source": [
    "real_res = A\\b';\n",
    "real_res- x "
   ]
  },
  {
   "cell_type": "code",
   "execution_count": 78,
   "metadata": {},
   "outputs": [
    {
     "name": "stdout",
     "output_type": "stream",
     "text": [
      "real_res =\r\n",
      "\r\n",
      "  -1.954938\r\n",
      "   0.719809\r\n",
      "  -0.394793\r\n",
      "  -1.415177\r\n",
      "   0.372353\r\n",
      "  -0.912906\r\n",
      "  -0.015159\r\n",
      "  -0.451465\r\n",
      "   1.757650\r\n",
      "  -1.190069\r\n",
      "   1.993330\r\n",
      "   1.621381\r\n",
      "   0.474153\r\n",
      "  -3.404666\r\n",
      "  -2.097547\r\n",
      "  -0.163576\r\n",
      "   2.679904\r\n",
      "  -3.070439\r\n",
      "   1.143362\r\n",
      "   3.234302\r\n",
      "\r\n"
     ]
    }
   ],
   "source": [
    "real_res"
   ]
  },
  {
   "cell_type": "code",
   "execution_count": 79,
   "metadata": {},
   "outputs": [
    {
     "name": "stdout",
     "output_type": "stream",
     "text": [
      "ans =  3.1860\r\n"
     ]
    }
   ],
   "source": [
    "max(real_res- x )"
   ]
  },
  {
   "cell_type": "code",
   "execution_count": null,
   "metadata": {},
   "outputs": [],
   "source": []
  }
 ],
 "metadata": {
  "kernelspec": {
   "display_name": "Octave",
   "language": "octave",
   "name": "octave"
  },
  "language_info": {
   "file_extension": ".m",
   "help_links": [
    {
     "text": "GNU Octave",
     "url": "https://www.gnu.org/software/octave/support.html"
    },
    {
     "text": "Octave Kernel",
     "url": "https://github.com/Calysto/octave_kernel"
    },
    {
     "text": "MetaKernel Magics",
     "url": "https://metakernel.readthedocs.io/en/latest/source/README.html"
    }
   ],
   "mimetype": "text/x-octave",
   "name": "octave",
   "version": "4.2.2"
  }
 },
 "nbformat": 4,
 "nbformat_minor": 2
}
