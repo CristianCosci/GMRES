{
 "cells": [
  {
   "cell_type": "code",
   "execution_count": 1,
   "metadata": {},
   "outputs": [],
   "source": [
    "clear"
   ]
  },
  {
   "cell_type": "markdown",
   "metadata": {},
   "source": [
    "## Caricamento Dati\n",
    "\n",
    "La seguente funzione permette di caricare matrici sparse, provenienti dal sito [https://sparse.tamu.edu/](https://sparse.tamu.edu/), salvate su file nel formato matlab.<br>\n",
    "Questa funzione riesce a gestire sia i vecchi formati (`< matlab v7.3`) che quelli nuovi."
   ]
  },
  {
   "cell_type": "code",
   "execution_count": 2,
   "metadata": {},
   "outputs": [],
   "source": [
    "function A = loadFunctionFromData(dataPath)\n",
    "    disp([\"🦍 Loading file: \"  dataPath])\n",
    "    load(dataPath)\n",
    "    \n",
    "%   se nel file è presente una `struct` allora vuol dire \n",
    "%   che sto utilizzando il nuovo formato e va convertito\n",
    "%   per essere utilizzato da Octave\n",
    "    if isstruct(Problem.A)\n",
    "        n = length(Problem.A.jc)-1;\n",
    "        ii = repelems(1:n, [1:n; diff(Problem.A.jc)]);\n",
    "        A = sparse(Problem.A.ir+1, ii, Problem.A.data);\n",
    "    else\n",
    "        A = Problem.A;\n",
    "    end\n",
    "endfunction"
   ]
  },
  {
   "cell_type": "code",
   "execution_count": 3,
   "metadata": {
    "scrolled": true
   },
   "outputs": [],
   "source": [
    "% Esempio di come utilizzare la precedente funzione\n",
    "% whos\n",
    "% A = loadFunctionFromData('./data/cage15.mat');\n",
    "% columns(A)\n",
    "% rows(A)\n",
    "% clear\n",
    "% A = loadFunctionFromData('./data/vas_stokes_2M.mat');\n",
    "% columns(A)\n",
    "% rows(A)"
   ]
  },
  {
   "cell_type": "markdown",
   "metadata": {},
   "source": [
    "La seguente funzione genera i dati iniziali per poter utilizzare GMRES."
   ]
  },
  {
   "cell_type": "code",
   "execution_count": 4,
   "metadata": {},
   "outputs": [],
   "source": [
    "function [A b x0] = generateData(dim, den, seed=69, randx0=false)\n",
    "    rand(\"seed\", seed);\n",
    "    A = sprand(dim, dim, den);\n",
    "    b = rand(dim, 1);\n",
    "    \n",
    "    if (randx0)\n",
    "        x0 = rand(dim, 1);\n",
    "    else\n",
    "        x0 = zeros(dim, 1);\n",
    "    end\n",
    "endfunction"
   ]
  },
  {
   "cell_type": "code",
   "execution_count": 5,
   "metadata": {},
   "outputs": [],
   "source": [
    "function [A b x0] = generateData2(dim, n=-4, seed=69, randx0=false)\n",
    "    rand(\"seed\", seed);\n",
    "    mu = 0;\n",
    "    sigma = 1/(2*sqrt(dim));\n",
    "    A = n * eye(dim) + normrnd(mu, sigma, dim);\n",
    "    b = ones(dim, 1);\n",
    "%     A = sprand(dim, dim, den);\n",
    "%     b = rand(dim, 1);\n",
    "    \n",
    "    if (randx0)\n",
    "        x0 = rand(dim, 1);\n",
    "    else\n",
    "        x0 = zeros(dim, 1);\n",
    "    end\n",
    "endfunction"
   ]
  },
  {
   "cell_type": "markdown",
   "metadata": {},
   "source": [
    "GMRES function"
   ]
  },
  {
   "cell_type": "code",
   "execution_count": 21,
   "metadata": {},
   "outputs": [],
   "source": [
    "function [x res] = mygmres(A, b, x0, k, tol)\n",
    "    n = size(b)(1);\n",
    "    r0 = b - A * x0;\n",
    "    beta = norm(r0, 2);\n",
    "    \n",
    "    H = zeros(k+2, k+1);\n",
    "    Q = zeros(n, k+1);\n",
    "    Q(:, 1) = r0/norm(r0, 2);\n",
    "    \n",
    "    en = zeros(k+2, 1);\n",
    "    en(1) = 1;\n",
    "        \n",
    "    for j = 1:k  %% TODO: ricontrollare\n",
    "%         imagesc(H);\n",
    "        v = A*Q(:, j);   \n",
    "        for i = 1:j\n",
    "            H(i,j) = Q(:,i)' * v;\n",
    "            v = v - H(i, j) * Q(:, i);\n",
    "        end\n",
    "        \n",
    "%         H = gramschmidt(H);\n",
    "%         Q = gramschmidt(Q);\n",
    "        \n",
    "        H(j+1, j) = norm(v, 2);\n",
    "        Q(:, j+1) = v / H(j+1, j);\n",
    "        \n",
    "%         if (abs(H(j+1, j)) > tol)\n",
    "%             Q(:, j+1) = Q(:,j+1)/H(j+1,j);\n",
    "%         end\n",
    "        \n",
    "        e1 = en(1:j+2);\n",
    "        \n",
    "        y =(H(1:j+2,1:j+1))\\(beta *e1);\n",
    "%         y =(H(1:j+2,1:j+1))\\(beta *e1);\n",
    "        res(j) = norm(H(1:j+2,1:j+1)*y - beta*e1, 2);\n",
    "\n",
    "        if (res(j) < tol)\n",
    "            x = Q(:, 1:j+1)*y +x0;\n",
    "            disp('🚀 Raggiunta Tolleranza, stop');\n",
    "            imagesc(H);\n",
    "            return;\n",
    "        end\n",
    "    end\n",
    "    x = Q(:, 1:j+1)*y +x0;\n",
    "    disp('🐌 Raggiunto massimo numero di Iterazioni');\n",
    "    imagesc(H);\n",
    "\n",
    "endfunction"
   ]
  },
  {
   "cell_type": "markdown",
   "metadata": {},
   "source": [
    "## Test 1 - Random Matrix"
   ]
  },
  {
   "cell_type": "code",
   "execution_count": 7,
   "metadata": {},
   "outputs": [],
   "source": [
    "[A, b, x0] = generateData(100, .5);"
   ]
  },
  {
   "cell_type": "code",
   "execution_count": 8,
   "metadata": {
    "scrolled": false
   },
   "outputs": [],
   "source": [
    "% A\n",
    "% b\n",
    "% x0\n",
    "% L = gramschmidt(A)"
   ]
  },
  {
   "cell_type": "code",
   "execution_count": 9,
   "metadata": {},
   "outputs": [
    {
     "name": "stdout",
     "output_type": "stream",
     "text": [
      "🐌 Raggiunto massimo numero di Iterazioni\r\n"
     ]
    },
    {
     "data": {
      "image/png": "[encoded data removed]",
      "text/plain": [
       "<IPython.core.display.Image object>"
      ]
     },
     "metadata": {},
     "output_type": "display_data"
    }
   ],
   "source": [
    "[x, res] = mygmres(A, b, x0, 50, 1e-10);"
   ]
  },
  {
   "cell_type": "code",
   "execution_count": 10,
   "metadata": {},
   "outputs": [
    {
     "name": "stdout",
     "output_type": "stream",
     "text": [
      "x =\n",
      "\n",
      "  -0.0201923\n",
      "  -0.0677891\n",
      "   0.1199244\n",
      "   0.0638064\n",
      "   0.1677747\n",
      "  -0.0494033\n",
      "   0.0825329\n",
      "  -0.0263160\n",
      "  -0.0616848\n",
      "  -0.1179525\n",
      "   0.0127384\n",
      "   0.0479075\n",
      "   0.1265152\n",
      "  -0.1259734\n",
      "  -0.0137531\n",
      "  -0.0670265\n",
      "   0.0814470\n",
      "  -0.0728190\n",
      "   0.0215602\n",
      "   0.0893996\n",
      "   0.1263778\n",
      "   0.0108318\n",
      "  -0.0869232\n",
      "   0.0277875\n",
      "   0.1175121\n",
      "  -0.0898482\n",
      "  -0.2354256\n",
      "  -0.0033759\n",
      "  -0.1250862\n",
      "   0.0109098\n",
      "  -0.1279142\n",
      "  -0.0911171\n",
      "   0.1101191\n",
      "   0.0772024\n",
      "   0.1906641\n",
      "  -0.0197818\n",
      "   0.0279160\n",
      "   0.0511314\n",
      "   0.1755224\n",
      "  -0.0674799\n",
      "  -0.0158713\n",
      "   0.0910620\n",
      "  -0.0110371\n",
      "   0.0350522\n",
      "   0.1752642\n",
      "   0.0278794\n",
      "  -0.0420496\n",
      "  -0.1457358\n",
      "   0.1957030\n",
      "   0.1857568\n",
      "   0.0484452\n",
      "   0.0387626\n",
      "  -0.1206017\n",
      "  -0.0174932\n",
      "  -0.0822885\n",
      "   0.1203418\n",
      "   0.0244209\n",
      "   0.0784664\n",
      "  -0.1172218\n",
      "  -0.0267162\n",
      "  -0.1167860\n",
      "   0.0270275\n",
      "   0.2514438\n",
      "  -0.0949771\n",
      "   0.0132733\n",
      "   0.1703041\n",
      "  -0.0917698\n",
      "   0.0504087\n",
      "  -0.0201117\n",
      "   0.0528405\n",
      "   0.1580686\n",
      "  -0.0849125\n",
      "   0.0733492\n",
      "   0.0069045\n",
      "   0.0314163\n",
      "  -0.1323591\n",
      "   0.0911310\n",
      "   0.1726158\n",
      "  -0.0102862\n",
      "   0.0328306\n",
      "   0.1318360\n",
      "   0.1746408\n",
      "   0.1586023\n",
      "   0.0146673\n",
      "   0.1357751\n",
      "   0.1185965\n",
      "   0.0178844\n",
      "   0.0902723\n",
      "  -0.0483324\n",
      "  -0.1623159\n",
      "   0.0212478\n",
      "   0.0443206\n",
      "   0.0081231\n",
      "  -0.0203329\n",
      "  -0.1461850\n",
      "  -0.0838029\n",
      "   0.0499735\n",
      "   0.1668861\n",
      "   0.0501056\n",
      "   0.1494818\n",
      "\n",
      "x_true =\n",
      "\n",
      "  -1.0621308\n",
      "   0.7481357\n",
      "  -0.1918956\n",
      "   1.3169211\n",
      "   0.2944564\n",
      "   0.9444023\n",
      "  -0.0797773\n",
      "  -0.6985566\n",
      "   0.1985555\n",
      "   0.9701770\n",
      "   0.4301884\n",
      "  -0.1095475\n",
      "  -1.7405315\n",
      "   1.7676574\n",
      "   1.3965346\n",
      "   0.4417025\n",
      "  -0.1037062\n",
      "   0.0555431\n",
      "  -0.6894847\n",
      "   0.0068947\n",
      "  -0.4306706\n",
      "  -1.1501260\n",
      "   0.7481410\n",
      "  -0.8274757\n",
      "   0.8462388\n",
      "  -0.8041499\n",
      "  -1.9397882\n",
      "  -0.5101689\n",
      "   0.1165454\n",
      "  -0.5656600\n",
      "   1.6612863\n",
      "   1.9685056\n",
      "   0.5222863\n",
      "  -0.1854906\n",
      "   0.7618232\n",
      "   0.6547969\n",
      "  -0.0305007\n",
      "   1.0043214\n",
      "   0.5295182\n",
      "   1.0272221\n",
      "   0.7163115\n",
      "   1.3857058\n",
      "   0.1876720\n",
      "  -0.2760694\n",
      "  -0.9306892\n",
      "   1.3829576\n",
      "   0.1099451\n",
      "  -0.4172027\n",
      "  -0.7438630\n",
      "  -1.5787693\n",
      "   2.0032340\n",
      "   1.0988646\n",
      "   0.2766170\n",
      "  -0.4935043\n",
      "   0.2301442\n",
      "   0.6241152\n",
      "  -0.7633377\n",
      "  -1.0871524\n",
      "   0.3389027\n",
      "   0.5022772\n",
      "   0.6133944\n",
      "  -2.4509729\n",
      "   2.2987667\n",
      "  -0.2709231\n",
      "  -0.5294866\n",
      "   0.9149973\n",
      "   0.3695696\n",
      "  -0.9353316\n",
      "  -0.2046830\n",
      "   1.0992392\n",
      "  -0.5953280\n",
      "  -0.1866144\n",
      "  -1.9254917\n",
      "   0.3695803\n",
      "  -0.9700791\n",
      "   0.4399878\n",
      "  -2.2520361\n",
      "  -0.5037631\n",
      "  -0.0489662\n",
      "  -0.9569673\n",
      "  -0.8997403\n",
      "   0.7019360\n",
      "  -0.1128249\n",
      "   0.8655076\n",
      "  -1.4567820\n",
      "  -0.5548311\n",
      "   0.8049629\n",
      "  -0.1585008\n",
      "  -0.2299241\n",
      "  -0.0308114\n",
      "   0.4486520\n",
      "   0.0613844\n",
      "  -0.3398814\n",
      "   0.4782104\n",
      "  -0.0356518\n",
      "   0.7659830\n",
      "   0.0978125\n",
      "  -1.6462250\n",
      "  -1.0758826\n",
      "   0.1719150\n",
      "\n",
      "ans =  2.0596\n"
     ]
    }
   ],
   "source": [
    "x\n",
    "x_true = A\\b\n",
    "max(x_true-x)"
   ]
  },
  {
   "cell_type": "code",
   "execution_count": 11,
   "metadata": {},
   "outputs": [
    {
     "data": {
      "image/png": "[encoded data removed]",
      "text/plain": [
       "<IPython.core.display.Image object>"
      ]
     },
     "metadata": {},
     "output_type": "display_data"
    },
    {
     "data": {
      "image/png": "[encoded data removed]",
      "text/plain": [
       "<IPython.core.display.Image object>"
      ]
     },
     "metadata": {},
     "output_type": "display_data"
    }
   ],
   "source": [
    "figure();\n",
    "plot(res);\n",
    "figure();\n",
    "semilogy(res);"
   ]
  },
  {
   "cell_type": "markdown",
   "metadata": {},
   "source": [
    "## Test 2 - randnorm()"
   ]
  },
  {
   "cell_type": "code",
   "execution_count": 23,
   "metadata": {
    "scrolled": false
   },
   "outputs": [
    {
     "name": "stdout",
     "output_type": "stream",
     "text": [
      "🍌 n = -4\n",
      "🚀 Raggiunta Tolleranza, stop\n",
      "ans =    9.0777e-13\n",
      "🍌 n = -2\n",
      "🚀 Raggiunta Tolleranza, stop\n",
      "ans =    3.6607e-12\n",
      "🍌 n = 0\n",
      "🐌 Raggiunto massimo numero di Iterazioni\n",
      "ans =  227.23\n",
      "🍌 n = 2\n",
      "🚀 Raggiunta Tolleranza, stop\n",
      "ans =    2.7008e-12\n",
      "🍌 n = 4\n",
      "🚀 Raggiunta Tolleranza, stop\n",
      "ans =    9.0905e-13\n"
     ]
    },
    {
     "data": {
      "image/png": "[encoded data removed]",
      "text/plain": [
       "<IPython.core.display.Image object>"
      ]
     },
     "metadata": {},
     "output_type": "display_data"
    },
    {
     "data": {
      "image/png": "[encoded data removed]",
      "text/plain": [
       "<IPython.core.display.Image object>"
      ]
     },
     "metadata": {},
     "output_type": "display_data"
    },
    {
     "data": {
      "image/png": "[encoded data removed]",
      "text/plain": [
       "<IPython.core.display.Image object>"
      ]
     },
     "metadata": {},
     "output_type": "display_data"
    },
    {
     "data": {
      "image/png": "[encoded data removed]",
      "text/plain": [
       "<IPython.core.display.Image object>"
      ]
     },
     "metadata": {},
     "output_type": "display_data"
    },
    {
     "data": {
      "image/png": "[encoded data removed]",
      "text/plain": [
       "<IPython.core.display.Image object>"
      ]
     },
     "metadata": {},
     "output_type": "display_data"
    },
    {
     "data": {
      "image/png": "[encoded data removed]",
      "text/plain": [
       "<IPython.core.display.Image object>"
      ]
     },
     "metadata": {},
     "output_type": "display_data"
    },
    {
     "data": {
      "image/png": "[encoded data removed]",
      "text/plain": [
       "<IPython.core.display.Image object>"
      ]
     },
     "metadata": {},
     "output_type": "display_data"
    },
    {
     "data": {
      "image/png": "[encoded data removed]",
      "text/plain": [
       "<IPython.core.display.Image object>"
      ]
     },
     "metadata": {},
     "output_type": "display_data"
    },
    {
     "data": {
      "image/png": "[encoded data removed]",
      "text/plain": [
       "<IPython.core.display.Image object>"
      ]
     },
     "metadata": {},
     "output_type": "display_data"
    },
    {
     "data": {
      "image/png": "[encoded data removed]",
      "text/plain": [
       "<IPython.core.display.Image object>"
      ]
     },
     "metadata": {},
     "output_type": "display_data"
    }
   ],
   "source": [
    "for n = [-4 -2 0 2 4]\n",
    "    figure();\n",
    "    printf(\"🍌 n = %d\\n\", n)\n",
    "    [A, b, x0] = generateData2(200, n=n);\n",
    "    [x, res] = mygmres(A, b, x0, 50, 1e-10);\n",
    "    \n",
    "    % x;\n",
    "    x_true = A\\b;\n",
    "    max(x_true-x)\n",
    "    \n",
    "    figure();\n",
    "    title([\"GMRES with n = \" mat2str(n)]);\n",
    "    semilogy(res);\n",
    "end"
   ]
  },
  {
   "cell_type": "code",
   "execution_count": null,
   "metadata": {},
   "outputs": [],
   "source": []
  },
  {
   "cell_type": "code",
   "execution_count": null,
   "metadata": {},
   "outputs": [],
   "source": []
  },
  {
   "cell_type": "code",
   "execution_count": null,
   "metadata": {},
   "outputs": [],
   "source": []
  },
  {
   "cell_type": "code",
   "execution_count": null,
   "metadata": {},
   "outputs": [],
   "source": []
  },
  {
   "cell_type": "code",
   "execution_count": null,
   "metadata": {},
   "outputs": [],
   "source": []
  },
  {
   "cell_type": "code",
   "execution_count": null,
   "metadata": {},
   "outputs": [],
   "source": [
    "function [U]=gramschmidt(V)\n",
    "[n,k] = size(V);\n",
    "U = zeros(n,k);\n",
    "U(:,1) = V(:,1)/norm(V(:,1));\n",
    "for i = 2:k\n",
    "    U(:,i)=V(:,i);\n",
    "    for j=1:i-1\n",
    "        U(:,i)=U(:,i)-(U(:,j)'*U(:,i)) * U(:,j);\n",
    "    end\n",
    "    U(:,i) = U(:,i)/norm(U(:,i));\n",
    "end\n",
    "end"
   ]
  },
  {
   "cell_type": "code",
   "execution_count": null,
   "metadata": {},
   "outputs": [],
   "source": []
  },
  {
   "cell_type": "code",
   "execution_count": null,
   "metadata": {},
   "outputs": [],
   "source": []
  },
  {
   "cell_type": "code",
   "execution_count": null,
   "metadata": {},
   "outputs": [],
   "source": []
  },
  {
   "cell_type": "code",
   "execution_count": null,
   "metadata": {},
   "outputs": [],
   "source": []
  },
  {
   "cell_type": "code",
   "execution_count": null,
   "metadata": {},
   "outputs": [],
   "source": []
  },
  {
   "cell_type": "code",
   "execution_count": null,
   "metadata": {},
   "outputs": [],
   "source": []
  },
  {
   "cell_type": "code",
   "execution_count": null,
   "metadata": {},
   "outputs": [],
   "source": []
  },
  {
   "cell_type": "code",
   "execution_count": null,
   "metadata": {},
   "outputs": [],
   "source": []
  },
  {
   "cell_type": "code",
   "execution_count": null,
   "metadata": {},
   "outputs": [],
   "source": []
  },
  {
   "cell_type": "code",
   "execution_count": null,
   "metadata": {},
   "outputs": [],
   "source": [
    "function [Q, H, breakdown] = ANROLDI(A, b,Qold, Hold, n, tol)\n",
    "    Hold\n",
    "    if any(Hold) || isempty(Hold)\n",
    "        H = [0 0]'\n",
    "    else\n",
    "%         H = [Hold 0;\n",
    "%              0 0];\n",
    "        H = [Hold zeros(size(Hold, 1), 1);\n",
    "            zeros(1, size(Hold, 2) + 1)];\n",
    "    end\n",
    "    \n",
    "    Q = [Qold  zeros(size(Qold, 1), 1)];\n",
    "%     Qold\n",
    "    w = A * Q(:, n);\n",
    "    \n",
    "    for i = max(1, n-1):n\n",
    "        H(i, n) = Q(:, i)' * w;\n",
    "        w = w - H(i, n) * Q(:, i);\n",
    "    end\n",
    "    w\n",
    "    H(n+1, n) = norm(w);\n",
    "    breakdown = norm(H(n+1, n)) < tol;\n",
    "    Q(:, n+1) = w/norm(w);\n",
    "endfunction"
   ]
  },
  {
   "cell_type": "code",
   "execution_count": null,
   "metadata": {},
   "outputs": [],
   "source": [
    "function [x res] = altrogmres(A, b, x0, k, tol)\n",
    "    Q = ones(size(b, 1), size(b, 1));\n",
    "%     Q = zeros(;\n",
    "    H = [];\n",
    "    r0 = b - A * x0;\n",
    "    beta = norm(r0, 2);\n",
    "    e1 = zeros(size(b, 1), 1);\n",
    "    e1(1) = 1;\n",
    "    res = 0;\n",
    "    for j=1:k\n",
    "        [Q, H, breakdown] = ANROLDI(A, b, Q, H, j, tol);\n",
    "        \n",
    "        if (abs(H(j+1, j)) > tol)\n",
    "            Q(:, j+1) = Q(:,j+1)/H(j+1,j);\n",
    "        end\n",
    "        \n",
    "        e1 = zeros(j+1, 1);\n",
    "        e1(1) = 1;\n",
    "\n",
    "%         y =(H(1:j+2,1:j+1))\\(beta *e1);\n",
    "        y =H\\(beta *e1(1:j+1));\n",
    "%         res = norm(H(1:j+1,1:j)*y - beta*e1, 2);\n",
    "        x = Q(:, 1:j) * y\n",
    "%         disp(H(j+1,j))\n",
    "%         disp(e1(1:j+1)*y)\n",
    "%         res = (H(j+1,j) * abs(e1*y))/beta;\n",
    "%         if (res < tol)\n",
    "%             disp('Raggiunta toll');\n",
    "%             x = Q(:, 1:j+1)*y +x0;\n",
    "%             return;\n",
    "%         end\n",
    "    end\n",
    "endfunction\n"
   ]
  },
  {
   "cell_type": "code",
   "execution_count": null,
   "metadata": {},
   "outputs": [],
   "source": [
    "[x res] = altrogmres(A, b, x0, 10, 1e-10);"
   ]
  },
  {
   "cell_type": "code",
   "execution_count": null,
   "metadata": {
    "scrolled": true
   },
   "outputs": [],
   "source": [
    "isempty([])\n",
    "all([1 2 30])\n",
    "any([0 0 0])\n",
    "2 < 4\n",
    "any([])"
   ]
  },
  {
   "cell_type": "code",
   "execution_count": null,
   "metadata": {},
   "outputs": [],
   "source": [
    "x\n",
    "A\\b"
   ]
  },
  {
   "cell_type": "code",
   "execution_count": null,
   "metadata": {},
   "outputs": [],
   "source": [
    "t = [1 1 2;\n",
    "     2 2 3;\n",
    "     0 2 1;]"
   ]
  },
  {
   "cell_type": "code",
   "execution_count": null,
   "metadata": {
    "scrolled": true
   },
   "outputs": [],
   "source": [
    "[t zeros(size(t, 1), 1);\n",
    "    zeros(1, size(t, 2) + 1)]"
   ]
  },
  {
   "cell_type": "code",
   "execution_count": null,
   "metadata": {},
   "outputs": [],
   "source": [
    "size(t, 2)"
   ]
  },
  {
   "cell_type": "code",
   "execution_count": null,
   "metadata": {},
   "outputs": [],
   "source": [
    "x\n",
    "real_x = A\\b\n",
    "max(real_x - x)"
   ]
  },
  {
   "cell_type": "code",
   "execution_count": null,
   "metadata": {},
   "outputs": [],
   "source": [
    "imshow(A);"
   ]
  },
  {
   "cell_type": "code",
   "execution_count": null,
   "metadata": {},
   "outputs": [],
   "source": [
    "test = [1 1 1 0 0;\n",
    "        0 1 1 1 0;\n",
    "        0 0 1 1 1;\n",
    "        0 0 0 1 1;]"
   ]
  },
  {
   "cell_type": "code",
   "execution_count": null,
   "metadata": {},
   "outputs": [],
   "source": [
    "imshow(test);"
   ]
  },
  {
   "cell_type": "code",
   "execution_count": null,
   "metadata": {},
   "outputs": [],
   "source": [
    "a = size([1 2 3])(2)"
   ]
  },
  {
   "cell_type": "code",
   "execution_count": null,
   "metadata": {},
   "outputs": [],
   "source": [
    "dim = 20;\n",
    "A = sprand(dim, dim, .5);\n",
    "b = rand(dim, 1);\n",
    "x0 = zeros(dim, 1);"
   ]
  },
  {
   "cell_type": "code",
   "execution_count": null,
   "metadata": {},
   "outputs": [],
   "source": [
    "rand(\"seed\", 20);\n"
   ]
  },
  {
   "cell_type": "code",
   "execution_count": null,
   "metadata": {},
   "outputs": [],
   "source": [
    "real_res = A\\b;"
   ]
  },
  {
   "cell_type": "code",
   "execution_count": null,
   "metadata": {},
   "outputs": [],
   "source": [
    "real_res - x"
   ]
  },
  {
   "cell_type": "code",
   "execution_count": null,
   "metadata": {},
   "outputs": [],
   "source": [
    "max(real_res- x )"
   ]
  },
  {
   "cell_type": "code",
   "execution_count": null,
   "metadata": {},
   "outputs": [],
   "source": [
    "rand(1, 3)"
   ]
  },
  {
   "cell_type": "code",
   "execution_count": null,
   "metadata": {},
   "outputs": [],
   "source": [
    "rand(3, 1)"
   ]
  },
  {
   "cell_type": "code",
   "execution_count": null,
   "metadata": {},
   "outputs": [],
   "source": [
    "rand(3)"
   ]
  },
  {
   "cell_type": "code",
   "execution_count": null,
   "metadata": {},
   "outputs": [],
   "source": [
    "zeros(3, 1)"
   ]
  },
  {
   "cell_type": "code",
   "execution_count": null,
   "metadata": {},
   "outputs": [],
   "source": [
    "function [x res] = cgmres(A, b, x0, k, tol)\n",
    "    n = size(b)(1);\n",
    "    Q = zeros(n, k+1);\n",
    "    H = zeros(k+1, k);\n",
    "    r0 = b - A * x0;\n",
    "    beta = norm(r0, 2);\n",
    "    Q(:, 1) = r0/norm(r0, 2);\n",
    "%     e1 = zeros(n, 1);\n",
    "%     e1(1) = 1;\n",
    "%     e1 = e1';\n",
    "    for j = 1:k  %% TODO: ricontrollare\n",
    "        imagesc(H);\n",
    "        disp(j);\n",
    "        \n",
    "        Q(:,j+1) = A * Q(:, j);\n",
    "        \n",
    "        for i = 1:j\n",
    "            H(i,j) = Q(:,i)' * Q(:, j+1);\n",
    "            Q(:, j+1) = Q(:, j+1) - H(i,j) * Q(:,i);\n",
    "        end\n",
    "        \n",
    "        H(j+1, j) = norm(Q(:, j+1), 2);\n",
    "        \n",
    "        if (abs(H(j+1, j)) > tol)\n",
    "            Q(:, j+1) = Q(:,j+1)/H(j+1,j);\n",
    "        end\n",
    "        \n",
    "        e1 = zeros(j+2, 1);\n",
    "        e1(1) = 1;\n",
    "%         e1 = e1';\n",
    "        %%TODO: ricontrollare\n",
    "%         y=0\n",
    "        y =(H(1:j+2,1:j+1))\\(beta *e1);\n",
    "        res = norm(H(1:j+2,1:j+1)*y - beta*e1, 2);\n",
    "        \n",
    "        if (res < tol)\n",
    "            disp('Raggiunta toll');\n",
    "            x = Q(:, 1:j+1)*y +x0;\n",
    "            return;\n",
    "        end\n",
    "    end\n",
    "    x = Q(:, 1:j+1)*y +x0;\n",
    "%     return;   % potrebbe essere superfluo\n",
    "endfunction"
   ]
  }
 ],
 "metadata": {
  "kernelspec": {
   "display_name": "Octave",
   "language": "octave",
   "name": "octave"
  },
  "language_info": {
   "file_extension": ".m",
   "help_links": [
    {
     "text": "GNU Octave",
     "url": "https://www.gnu.org/software/octave/support.html"
    },
    {
     "text": "Octave Kernel",
     "url": "https://github.com/Calysto/octave_kernel"
    },
    {
     "text": "MetaKernel Magics",
     "url": "https://metakernel.readthedocs.io/en/latest/source/README.html"
    }
   ],
   "mimetype": "text/x-octave",
   "name": "octave",
   "version": "4.2.2"
  }
 },
 "nbformat": 4,
 "nbformat_minor": 2
}
