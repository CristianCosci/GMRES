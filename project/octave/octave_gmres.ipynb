{
 "cells": [
  {
   "cell_type": "code",
   "execution_count": null,
   "metadata": {},
   "outputs": [],
   "source": [
    "clear\n",
    "pkg load statistics"
   ]
  },
  {
   "attachments": {},
   "cell_type": "markdown",
   "metadata": {},
   "source": [
    "## **Loading and Creation Data**\n"
   ]
  },
  {
   "attachments": {},
   "cell_type": "markdown",
   "metadata": {},
   "source": [
    "#### *loadFunctionFromData*\n",
    "This function permits to load large sparse matrix from [https://sparse.tamu.edu/](https://sparse.tamu.edu/)."
   ]
  },
  {
   "cell_type": "code",
   "execution_count": 2,
   "metadata": {},
   "outputs": [],
   "source": [
    "function A = loadFunctionFromData(dataPath)\n",
    "    disp([\"🦍 Loading file: \"  dataPath])\n",
    "    load(dataPath)\n",
    "    \n",
    "%   se nel file è presente una `struct` allora vuol dire \n",
    "%   che sto utilizzando il nuovo formato e va convertito\n",
    "%   per essere utilizzato da Octave\n",
    "    if isstruct(Problem.A)\n",
    "        n = length(Problem.A.jc)-1;\n",
    "        ii = repelems(1:n, [1:n; diff(Problem.A.jc)]);\n",
    "        A = sparse(Problem.A.ir+1, ii, Problem.A.data);\n",
    "    else\n",
    "        A = Problem.A;\n",
    "    end\n",
    "endfunction"
   ]
  },
  {
   "attachments": {},
   "cell_type": "markdown",
   "metadata": {},
   "source": [
    "##### Example of loadFunctionFromData usage"
   ]
  },
  {
   "cell_type": "code",
   "execution_count": 3,
   "metadata": {
    "scrolled": true
   },
   "outputs": [],
   "source": [
    "% Esempio di come utilizzare la precedente funzione\n",
    "% whos\n",
    "% A = loadFunctionFromData('./data/cage15.mat');\n",
    "% columns(A)\n",
    "% rows(A)\n",
    "% clear\n",
    "% A = loadFunctionFromData('./data/vas_stokes_2M.mat');\n",
    "% columns(A)\n",
    "% rows(A)"
   ]
  },
  {
   "attachments": {},
   "cell_type": "markdown",
   "metadata": {},
   "source": [
    "### **generateData**\n",
    "This function permit to create (randomly), the initial data for GMRES:\n",
    "- `A`: the sparse coefficient matrix of the Linear System\n",
    "- `b`: the known therm vector\n",
    "- `x0`: initial guess"
   ]
  },
  {
   "cell_type": "code",
   "execution_count": 4,
   "metadata": {},
   "outputs": [],
   "source": [
    "function [A b x0] = generateData(dim, den, seed=69, randx0=false)\n",
    "    rand(\"seed\", seed);\n",
    "    A = sprand(dim, dim, den);\n",
    "    b = rand(dim, 1);\n",
    "    \n",
    "    if (randx0)\n",
    "        x0 = rand(dim, 1);\n",
    "    else\n",
    "        x0 = zeros(dim, 1);\n",
    "    end\n",
    "endfunction"
   ]
  },
  {
   "attachments": {},
   "cell_type": "markdown",
   "metadata": {},
   "source": [
    "### **generateData2**\n",
    "This function permit to create (randomly), the initial data for GMRES using some conditioning in order to obtain convergence:\n",
    "- `A`: the coefficient matrix of the Linear System\n",
    "- `b`: the known therm vector\n",
    "- `x0`: initial guess"
   ]
  },
  {
   "cell_type": "code",
   "execution_count": null,
   "metadata": {},
   "outputs": [],
   "source": [
    "function [A b x0] = generateData2(dim, n=-4, seed=69, randx0=false)\n",
    "    rand(\"seed\", seed);\n",
    "    mu = 0;\n",
    "    sigma = 1/(2*sqrt(dim));\n",
    "    A = n * eye(dim) + normrnd(mu, sigma, dim);\n",
    "    b = ones(dim, 1);\n",
    "\n",
    "    if (randx0)\n",
    "        x0 = rand(dim, 1);\n",
    "    else\n",
    "        x0 = zeros(dim, 1);\n",
    "    end\n",
    "endfunction"
   ]
  },
  {
   "attachments": {},
   "cell_type": "markdown",
   "metadata": {},
   "source": [
    "### **generateData3**\n",
    "This function permit to create (randomly), the initial data for GMRES using some conditioning in order to obtain convergence for sure:\n",
    "- `A`: the **sparse** coefficient matrix of the Linear System\n",
    "- `b`: the known therm vector\n",
    "- `x0`: initial guess"
   ]
  },
  {
   "cell_type": "code",
   "execution_count": null,
   "metadata": {},
   "outputs": [],
   "source": [
    "function [A b x0] = generateData3(dim, dense, n=-4, seed=69, randx0=false)\n",
    "    rand(\"seed\", seed);\n",
    "\n",
    "    A = sprandn(dim, dim, dense)*0.01 + speye(dim)*n ;\n",
    "    b = ones(dim, 1);\n",
    "\n",
    "    if (randx0)\n",
    "        x0 = rand(dim, 1);\n",
    "    else\n",
    "        x0 = zeros(dim, 1);\n",
    "    end\n",
    "\n",
    "endfunction"
   ]
  },
  {
   "attachments": {},
   "cell_type": "markdown",
   "metadata": {},
   "source": [
    "### **Auxiliary functions**"
   ]
  },
  {
   "attachments": {},
   "cell_type": "markdown",
   "metadata": {},
   "source": [
    "#### *plotResiduals*\n",
    "Function to plot residual."
   ]
  },
  {
   "cell_type": "code",
   "execution_count": null,
   "metadata": {},
   "outputs": [],
   "source": [
    "function plotResiduals(res, all=false)\n",
    "    if (all)\n",
    "        figure();\n",
    "        plot(res);\n",
    "        title(\"Residual over Iteration\");\n",
    "        xlabel(\"Iterations\");\n",
    "        ylabel(\"Residual Values\");\n",
    "    end\n",
    "\n",
    "    figure();\n",
    "    semilogy(res);\n",
    "    title(\"Residual over Iteration (semilog scale)\");\n",
    "    xlabel(\"Iterations\");\n",
    "    ylabel(\"Residual Values\");\n",
    "\n",
    "endfunction"
   ]
  },
  {
   "attachments": {},
   "cell_type": "markdown",
   "metadata": {},
   "source": [
    "#### *plotFunction*\n",
    "Auxiliary functions to plot matrix and eigenvalue informations."
   ]
  },
  {
   "cell_type": "code",
   "execution_count": null,
   "metadata": {},
   "outputs": [],
   "source": [
    "function plotMatrix(A, figTitle=\"Matrix\")\n",
    "    figure();\n",
    "    imagesc(A(1:50, 1:50));\n",
    "    colorbar();\n",
    "    title(figTitle);\n",
    "endfunction\n",
    "\n",
    "function plotEig(A, figTitle=\"Eigenvalues\")\n",
    "    figure();\n",
    "    plot(eig(A), 'o');\n",
    "    title(figTitle);\n",
    "endfunction\n",
    "\n",
    "function matrixInfo(A, title1=\"Matrix\", title2=\"Eigenvalues\")\n",
    "    %plotMatrix(A, title1);\n",
    "\n",
    "    plotEig(A, title2);\n",
    "endfunction"
   ]
  },
  {
   "attachments": {},
   "cell_type": "markdown",
   "metadata": {},
   "source": [
    "## **GMRES implementation**"
   ]
  },
  {
   "cell_type": "code",
   "execution_count": 3,
   "metadata": {},
   "outputs": [],
   "source": [
    "function [x res] = mygmres(A, b, x0, k, tol)\n",
    "    n = size(b)(1);\n",
    "    r0 = b - A * x0;\n",
    "    beta = norm(r0, 2);\n",
    "    \n",
    "    H = zeros(k+2, k+1);\n",
    "    Q = zeros(n, k+1);\n",
    "    Q(:, 1) = r0/norm(r0, 2);\n",
    "    \n",
    "    en = zeros(k+2, 1);\n",
    "    en(1) = 1;\n",
    "        \n",
    "    for j = 1:k\n",
    "        v = A*Q(:, j);  \n",
    "        \n",
    "        % ortogonalizzazione\n",
    "        for _ = 1:2\n",
    "            for i = 1:j\n",
    "                tmp = Q(:,i)' * v;\n",
    "                v = v - tmp * Q(:, i);\n",
    "                H(i,j) += tmp;\n",
    "            end\n",
    "        end\n",
    "\n",
    "        H(j+1, j) = norm(v, 2);\n",
    "        \n",
    "        % TODO: capire come gestire la divisone per 0\n",
    "        if (H(j+1, j) == 0)\n",
    "            error(\"Divisione per 0 !!\");\n",
    "        end\n",
    "        \n",
    "        Q(:, j+1) = v / H(j+1, j);\n",
    "\n",
    "        e1 = en(1:j+2);\n",
    "        \n",
    "        y =(H(1:j+2,1:j+1))\\(beta *e1);\n",
    "        res(j) = norm(H(1:j+2,1:j+1)*y - beta*e1, 2);\n",
    "\n",
    "        if (res(j) < tol)\n",
    "            disp(size(H));\n",
    "            x = Q(:, 1:j+1)*y +x0;\n",
    "            printf('🚀 Raggiunta Tolleranza (j: %d), stop', j);\n",
    "            figure();\n",
    "            imagesc(H(1:j, 1:j));\n",
    "            colorbar();\n",
    "            title(\"Matrix H\");\n",
    "            return;\n",
    "        end\n",
    "    end\n",
    "    \n",
    "    x = Q(:, 1:j+1)*y +x0;\n",
    "    disp('🐌 Raggiunto massimo numero di Iterazioni');\n",
    "    disp(size(H));\n",
    "    figure();\n",
    "    imagesc(H);  % TODO: plottare meglio\n",
    "    colorbar();\n",
    "    title(\"Matrix H\");\n",
    "endfunction"
   ]
  },
  {
   "attachments": {},
   "cell_type": "markdown",
   "metadata": {},
   "source": [
    "### **GMRES with Restarting**"
   ]
  },
  {
   "cell_type": "code",
   "execution_count": null,
   "metadata": {},
   "outputs": [],
   "source": [
    "function [x res] = gmres_restarting(A, b, x0, k, tol, m)\n",
    "    restartCount = 0;\n",
    "    res = [];\n",
    "    n = size(b)(1);\n",
    "    en = zeros(k+2, 1);\n",
    "    en(1) = 1;\n",
    "\n",
    "    while (restartCount < m)\n",
    "        H = zeros(k+2, k+1);\n",
    "        Q = zeros(n, k+1);\n",
    "\n",
    "        r0 = b - A * x0;\n",
    "        beta = norm(r0, 2);\n",
    "        Q(:, 1) = r0/norm(r0, 2);\n",
    "\n",
    "        for j = 1:k\n",
    "            v = A*Q(:, j);  \n",
    "\n",
    "            % ortogonalizzazione\n",
    "            for _ = 1:2\n",
    "                for i = 1:j\n",
    "                    %H(i,j) = Q(:,i)' * v;\n",
    "                    tmp = Q(:,i)' * v;\n",
    "                    v = v - tmp * Q(:, i);\n",
    "                    H(i,j) += tmp;\n",
    "                end\n",
    "            end\n",
    "\n",
    "            % ortogonalizzazione ??\n",
    "            %v = mgorth(v, Q); %% è quella bella\n",
    "    %         v = gramschmidt(v);\n",
    "\n",
    "            H(j+1, j) = norm(v, 2);\n",
    "\n",
    "            % TODO: capire come gestire la divisone per 0\n",
    "            if (H(j+1, j) == 0)\n",
    "                error(\"Divisione per 0 !!\");\n",
    "            end\n",
    "\n",
    "            Q(:, j+1) = v / H(j+1, j);\n",
    "\n",
    "            e1 = en(1:j+2);\n",
    "\n",
    "            y =(H(1:j+2,1:j+1))\\(beta *e1);\n",
    "            res = [res norm(H(1:j+2,1:j+1)*y - beta*e1, 2)];\n",
    "\n",
    "            if (res(end) < tol)\n",
    "                x = Q(:, 1:j+1)*y +x0;\n",
    "                disp('🚀 Raggiunta Tolleranza, stop');\n",
    "                imagesc(H(1:j, 1:j));\n",
    "                return;\n",
    "            end\n",
    "        end\n",
    "        \n",
    "        x = Q(:, 1:j+1)*y +x0;\n",
    "        x0 = x;\n",
    "        restartCount = restartCount + 1;\n",
    "        \n",
    "        disp('🐌 Raggiunto massimo numero di Iterazioni');\n",
    "        disp('🗿 Restarting ...');\n",
    "%         imagesc(H);\n",
    "    end\n",
    "    \n",
    "    disp('❌ Raggiunto massimo numero di Restart');\n",
    "    imagesc(H);\n",
    "endfunction"
   ]
  },
  {
   "attachments": {},
   "cell_type": "markdown",
   "metadata": {},
   "source": [
    "## **TESTS**"
   ]
  },
  {
   "attachments": {},
   "cell_type": "markdown",
   "metadata": {},
   "source": [
    "### **Test 1** - Random Matrix\n",
    "\n",
    "GMRES test using small random data"
   ]
  },
  {
   "cell_type": "code",
   "execution_count": 7,
   "metadata": {},
   "outputs": [],
   "source": [
    "[A, b, x0] = generateData(300, .5);"
   ]
  },
  {
   "attachments": {},
   "cell_type": "markdown",
   "metadata": {},
   "source": [
    "GMRES with iteration and tol = 1e-10."
   ]
  },
  {
   "cell_type": "code",
   "execution_count": 8,
   "metadata": {},
   "outputs": [
    {
     "name": "stdout",
     "output_type": "stream",
     "text": [
      "🐌 Raggiunto massimo numero di Iterazioni\n",
      "   52   51\n"
     ]
    },
    {
     "data": {
      "image/png": "[encoded data removed]",
      "text/plain": [
       "<IPython.core.display.Image object>"
      ]
     },
     "metadata": {},
     "output_type": "display_data"
    }
   ],
   "source": [
    "[x, res] = mygmres(A, b, x0, 50, 1e-10);"
   ]
  },
  {
   "attachments": {},
   "cell_type": "markdown",
   "metadata": {},
   "source": [
    "#### **Residual plot**"
   ]
  },
  {
   "cell_type": "code",
   "execution_count": 10,
   "metadata": {},
   "outputs": [
    {
     "data": {
      "image/png": "[encoded data removed]",
      "text/plain": [
       "<IPython.core.display.Image object>"
      ]
     },
     "metadata": {},
     "output_type": "display_data"
    },
    {
     "data": {
      "image/png": "[encoded data removed]",
      "text/plain": [
       "<IPython.core.display.Image object>"
      ]
     },
     "metadata": {},
     "output_type": "display_data"
    }
   ],
   "source": [
    "figure();\n",
    "plot(res);\n",
    "title(\"Residual over Iteration\");\n",
    "xlabel(\"Iterations\");\n",
    "ylabel(\"Residual Values\");\n",
    "\n",
    "figure();\n",
    "semilogy(res);\n",
    "title(\"Residual over Iteration (semilog scale)\");\n",
    "xlabel(\"Iterations\");\n",
    "ylabel(\"Residual Values\");\n"
   ]
  },
  {
   "attachments": {},
   "cell_type": "markdown",
   "metadata": {},
   "source": [
    "We can see that in this execution GMRES is not able to converge."
   ]
  },
  {
   "attachments": {},
   "cell_type": "markdown",
   "metadata": {},
   "source": [
    "**Now we can try to iterate for n iteration with n equal to A dimension and verify that GMRES converge to an exact solution.**"
   ]
  },
  {
   "cell_type": "code",
   "execution_count": null,
   "metadata": {},
   "outputs": [],
   "source": [
    "[x, res] = mygmres(A, b, x0, 300, 1e-10);\n",
    "approx_error = norm(x_true-x, 2)\n",
    "\n",
    "plotResiduals(res);"
   ]
  },
  {
   "attachments": {},
   "cell_type": "markdown",
   "metadata": {},
   "source": [
    "### **Test 2**\n",
    "\n",
    "**We can explore deeper the matrix composition, in order to see which common property they are**."
   ]
  },
  {
   "attachments": {},
   "cell_type": "markdown",
   "metadata": {},
   "source": [
    "Generate 4 different linear systems with a dimension between [50, 800] (in order to obtain a fast eigenvalue computation)."
   ]
  },
  {
   "cell_type": "code",
   "execution_count": null,
   "metadata": {},
   "outputs": [],
   "source": [
    "for _ = 1:4\n",
    "    % 50 <= random size <= 800\n",
    "    dim = randi([50 800], 1, 1);\n",
    "    \n",
    "    [A, b, x0] = generateData(dim, .5);\n",
    "    \n",
    "    matrixInfo(\n",
    "        A, \n",
    "        title1=[\"Random Matrix of Size: \" num2str(dim)], \n",
    "        title2=[\"Eigenvalue Random Matrix of Size: \" num2str(dim)]\n",
    "    );\n",
    "end"
   ]
  },
  {
   "attachments": {},
   "cell_type": "markdown",
   "metadata": {},
   "source": [
    "### **Test 3**\n",
    "\n",
    "Apply GMRES to a linear system with A that corresponds to identity matrix."
   ]
  },
  {
   "cell_type": "code",
   "execution_count": 53,
   "metadata": {},
   "outputs": [
    {
     "name": "stdout",
     "output_type": "stream",
     "text": [
      "error: Divisione per 0 !!\n",
      "error: called from\n",
      "    mygmres at line 29 column 13\n"
     ]
    },
    {
     "data": {
      "image/png": "[encoded data removed]",
      "text/plain": [
       "<IPython.core.display.Image object>"
      ]
     },
     "metadata": {},
     "output_type": "display_data"
    }
   ],
   "source": [
    "[A, b, x0] = generateData(300, .5);\n",
    "A = eye(300);\n",
    "\n",
    "[x, res] = mygmres(A, b, x0, 150, 1e-10);\n",
    "\n",
    "plotResiduals(res);"
   ]
  },
  {
   "attachments": {},
   "cell_type": "markdown",
   "metadata": {},
   "source": [
    "### **Test 4**\n",
    "\n",
    "Random matrix + multiple of identity matrix."
   ]
  },
  {
   "cell_type": "code",
   "execution_count": 20,
   "metadata": {},
   "outputs": [
    {
     "name": "stdout",
     "output_type": "stream",
     "text": [
      "🐌 Raggiunto massimo numero di Iterazioni\n"
     ]
    },
    {
     "data": {
      "image/png": "[encoded data removed]",
      "text/plain": [
       "<IPython.core.display.Image object>"
      ]
     },
     "metadata": {},
     "output_type": "display_data"
    },
    {
     "data": {
      "image/png": "[encoded data removed]",
      "text/plain": [
       "<IPython.core.display.Image object>"
      ]
     },
     "metadata": {},
     "output_type": "display_data"
    },
    {
     "data": {
      "image/png": "[encoded data removed]",
      "text/plain": [
       "<IPython.core.display.Image object>"
      ]
     },
     "metadata": {},
     "output_type": "display_data"
    },
    {
     "data": {
      "image/png": "[encoded data removed]",
      "text/plain": [
       "<IPython.core.display.Image object>"
      ]
     },
     "metadata": {},
     "output_type": "display_data"
    }
   ],
   "source": [
    "[A, b, x0] = generateData(300, .5);\n",
    "A = A + eye(300)*5;\n",
    "\n",
    "[x, res] = mygmres(A, b, x0, 150, 1e-10);\n",
    "\n",
    "plotResiduals(res);\n",
    "matrixInfo(A);"
   ]
  },
  {
   "attachments": {},
   "cell_type": "markdown",
   "metadata": {},
   "source": [
    "### **Test 5**\n",
    "\n",
    "Use generateData2."
   ]
  },
  {
   "cell_type": "code",
   "execution_count": null,
   "metadata": {},
   "outputs": [],
   "source": [
    "for n = [-4 0 4]\n",
    "%     printf(\"🍌 n = %d\\n\", n)\n",
    "    \n",
    "    [A, b, x0] = generateData2(300, n=n);\n",
    "    [x, res] = mygmres(A, b, x0, 150, 1e-15);\n",
    "    \n",
    "    x_true = A\\b;\n",
    "    approx_error = norm(x_true-x, 2)\n",
    "    \n",
    "    plotEig(A, figTitle=[\"Eigenvalues Matrix of Size: \" num2str(n)]);\n",
    "    plotResiduals(res);\n",
    "end"
   ]
  },
  {
   "attachments": {},
   "cell_type": "markdown",
   "metadata": {},
   "source": [
    "# **GMRES with Big Data**"
   ]
  },
  {
   "attachments": {},
   "cell_type": "markdown",
   "metadata": {},
   "source": [
    "Try GMRES with large sparse matrix."
   ]
  },
  {
   "cell_type": "code",
   "execution_count": 30,
   "metadata": {},
   "outputs": [],
   "source": [
    "%%time\n",
    "[A, b, x0] = generateData(10000, .5);"
   ]
  },
  {
   "cell_type": "code",
   "execution_count": 31,
   "metadata": {},
   "outputs": [
    {
     "name": "stdout",
     "output_type": "stream",
     "text": [
      "🐌 Raggiunto massimo numero di Iterazioni\n"
     ]
    },
    {
     "data": {
      "image/png": "[encoded data removed]",
      "text/plain": [
       "<IPython.core.display.Image object>"
      ]
     },
     "metadata": {},
     "output_type": "display_data"
    },
    {
     "name": "stdout",
     "output_type": "stream",
     "text": [
      "Time: 21.308188676834106 seconds.\n",
      "\n"
     ]
    }
   ],
   "source": [
    "%%time\n",
    "[x, res] = mygmres(A, b, x0, 150, 1e-10);"
   ]
  },
  {
   "cell_type": "code",
   "execution_count": 32,
   "metadata": {},
   "outputs": [
    {
     "data": {
      "image/png": "[encoded data removed]",
      "text/plain": [
       "<IPython.core.display.Image object>"
      ]
     },
     "metadata": {},
     "output_type": "display_data"
    }
   ],
   "source": [
    "plotResiduals(res);"
   ]
  },
  {
   "attachments": {},
   "cell_type": "markdown",
   "metadata": {},
   "source": [
    "Now we are going to use `generateData3` function in order to generate large sparse matrices with which gmres converges (with `generateData2` the matrix is not sparse and it cannot be entered into memory)."
   ]
  },
  {
   "cell_type": "code",
   "execution_count": 39,
   "metadata": {},
   "outputs": [
    {
     "name": "stdout",
     "output_type": "stream",
     "text": [
      "Time: 146.6969826221466 seconds.\n",
      "\n"
     ]
    }
   ],
   "source": [
    "%%time\n",
    "[A b x0] = generateData3(100000, .1);"
   ]
  },
  {
   "cell_type": "code",
   "execution_count": 40,
   "metadata": {},
   "outputs": [
    {
     "name": "stdout",
     "output_type": "stream",
     "text": [
      "ans =\n",
      "\n",
      "   100000   100000\n",
      "\n",
      "🚀 Raggiunta Tolleranza, stop\n"
     ]
    },
    {
     "data": {
      "image/png": "[encoded data removed]",
      "text/plain": [
       "<IPython.core.display.Image object>"
      ]
     },
     "metadata": {},
     "output_type": "display_data"
    },
    {
     "name": "stdout",
     "output_type": "stream",
     "text": [
      "Time: 2.3716518878936768 seconds.\n",
      "\n"
     ]
    }
   ],
   "source": [
    "%%time\n",
    "size(A)\n",
    "[x, res] = mygmres(A, b, x0, 150, 1e-10);"
   ]
  },
  {
   "cell_type": "code",
   "execution_count": 41,
   "metadata": {},
   "outputs": [
    {
     "data": {
      "image/png": "[encoded data removed]",
      "text/plain": [
       "<IPython.core.display.Image object>"
      ]
     },
     "metadata": {},
     "output_type": "display_data"
    }
   ],
   "source": [
    "plotResiduals(res);"
   ]
  },
  {
   "attachments": {},
   "cell_type": "markdown",
   "metadata": {},
   "source": [
    "# **TO COMPLETE**"
   ]
  },
  {
   "cell_type": "code",
   "execution_count": null,
   "metadata": {},
   "outputs": [],
   "source": []
  },
  {
   "cell_type": "markdown",
   "metadata": {},
   "source": [
    "Provo con una matrice presa da sparse.edu\n",
    "\n",
    "**Non funziona**"
   ]
  },
  {
   "cell_type": "code",
   "execution_count": 4,
   "metadata": {},
   "outputs": [
    {
     "name": "stdout",
     "output_type": "stream",
     "text": [
      "🦍 Loading file: ../data/europe_osm.mat\n",
      "error: out of memory or dimension too large for Octave's index type\n",
      "error: out of memory or dimension too large for Octave's index type\n",
      "Time: 9.685840606689453 seconds.\n",
      "\n"
     ]
    }
   ],
   "source": [
    "%%time\n",
    "A = loadFunctionFromData(\"../data/europe_osm.mat\");\n",
    "b = ones(size(A)(1));\n",
    "x0 = zeros(size(A)(1));"
   ]
  },
  {
   "cell_type": "code",
   "execution_count": 14,
   "metadata": {},
   "outputs": [
    {
     "name": "stdout",
     "output_type": "stream",
     "text": [
      "ans =\n",
      "\n",
      "   14734   14734\n",
      "\n"
     ]
    }
   ],
   "source": [
    "size(A)"
   ]
  },
  {
   "cell_type": "code",
   "execution_count": 5,
   "metadata": {},
   "outputs": [
    {
     "name": "stdout",
     "output_type": "stream",
     "text": [
      "\n",
      "Restarting kernel...\n",
      "Done!\n"
     ]
    },
    {
     "name": "stderr",
     "output_type": "stream",
     "text": [
      "\u001b[0;31m[Errno 9] Bad file descriptor\n",
      "\u001b[0m"
     ]
    },
    {
     "name": "stdout",
     "output_type": "stream",
     "text": [
      "Time: 46.07128024101257 seconds.\n",
      "\n"
     ]
    }
   ],
   "source": [
    "%%time\n",
    "[x, res] = mygmres(A, b, x0, 150, 1e-10);"
   ]
  },
  {
   "cell_type": "code",
   "execution_count": null,
   "metadata": {},
   "outputs": [],
   "source": [
    "plotResiduals(res);"
   ]
  },
  {
   "attachments": {},
   "cell_type": "markdown",
   "metadata": {},
   "source": [
    "### **GMRES(m)** -> restarting"
   ]
  },
  {
   "cell_type": "code",
   "execution_count": null,
   "metadata": {},
   "outputs": [],
   "source": [
    "[A, b, x0] = generateData(9000, .5);\n",
    "\n",
    "figure();\n",
    "[x, res] = gmres_restarting(A, b, x0, 150, 1e-10, 10);\n",
    "\n",
    "figure();\n",
    "semilogy(res);"
   ]
  },
  {
   "cell_type": "code",
   "execution_count": 17,
   "metadata": {},
   "outputs": [
    {
     "name": "stdout",
     "output_type": "stream",
     "text": [
      "🐌 Raggiunto massimo numero di Iterazioni\n",
      "🗿 Restarting ...\n",
      "🐌 Raggiunto massimo numero di Iterazioni\n",
      "🗿 Restarting ...\n",
      "🚀 Raggiunta Tolleranza, stop\n"
     ]
    },
    {
     "data": {
      "image/png": "[encoded data removed]",
      "text/plain": [
       "<IPython.core.display.Image object>"
      ]
     },
     "metadata": {},
     "output_type": "display_data"
    },
    {
     "data": {
      "image/png": "[encoded data removed]",
      "text/plain": [
       "<IPython.core.display.Image object>"
      ]
     },
     "metadata": {},
     "output_type": "display_data"
    },
    {
     "data": {
      "image/png": "[encoded data removed]",
      "text/plain": [
       "<IPython.core.display.Image object>"
      ]
     },
     "metadata": {},
     "output_type": "display_data"
    }
   ],
   "source": [
    "A = eye(10000)*120;\n",
    "\n",
    "figure();\n",
    "[x, res] = gmres_restarting(A, b, x0, 100, 1e-10, 10);\n",
    "\n",
    "figure();\n",
    "semilogy(res);\n",
    "\n",
    "figure();\n",
    "imagesc(A(1:50, 1:50));\n",
    "% A(1:10, 1:10)"
   ]
  },
  {
   "attachments": {},
   "cell_type": "markdown",
   "metadata": {},
   "source": [
    "fare test con matrice molto grande con gmres normale e gmres restarting, quello che dovrebbe evincere è che il restarting è più veloce in quanto è meno costoso computazionalmente."
   ]
  }
 ],
 "metadata": {
  "kernelspec": {
   "display_name": "Python 3",
   "language": "python",
   "name": "python3"
  },
  "language_info": {
   "file_extension": ".m",
   "help_links": [
    {
     "text": "GNU Octave",
     "url": "https://www.gnu.org/software/octave/support.html"
    },
    {
     "text": "Octave Kernel",
     "url": "https://github.com/Calysto/octave_kernel"
    },
    {
     "text": "MetaKernel Magics",
     "url": "https://metakernel.readthedocs.io/en/latest/source/README.html"
    }
   ],
   "mimetype": "text/x-octave",
   "name": "python",
   "version": "3.10.6 (main, Nov 14 2022, 16:10:14) [GCC 11.3.0]"
  },
  "vscode": {
   "interpreter": {
    "hash": "916dbcbb3f70747c44a77c7bcd40155683ae19c65e1c03b4aa3499c5328201f1"
   }
  }
 },
 "nbformat": 4,
 "nbformat_minor": 4
}
