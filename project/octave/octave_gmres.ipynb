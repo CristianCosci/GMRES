{
 "cells": [
  {
   "cell_type": "code",
   "execution_count": 1,
   "metadata": {},
   "outputs": [],
   "source": [
    "clear"
   ]
  },
  {
   "cell_type": "markdown",
   "metadata": {},
   "source": [
    "## Caricamento Dati\n",
    "\n",
    "La seguente funzione permette di caricare matrici sparse, provenienti dal sito [https://sparse.tamu.edu/](https://sparse.tamu.edu/), salvate su file nel formato matlab.<br>\n",
    "Questa funzione riesce a gestire sia i vecchi formati (`< matlab v7.3`) che quelli nuovi."
   ]
  },
  {
   "cell_type": "code",
   "execution_count": 2,
   "metadata": {},
   "outputs": [],
   "source": [
    "function A = loadFunctionFromData(dataPath)\n",
    "    disp([\"🦍 Loading file: \"  dataPath])\n",
    "    load(dataPath)\n",
    "    \n",
    "%   se nel file è presente una `struct` allora vuol dire \n",
    "%   che sto utilizzando il nuovo formato e va convertito\n",
    "%   per essere utilizzato da Octave\n",
    "    if isstruct(Problem.A)\n",
    "        n = length(Problem.A.jc)-1;\n",
    "        ii = repelems(1:n, [1:n; diff(Problem.A.jc)]);\n",
    "        A = sparse(Problem.A.ir+1, ii, Problem.A.data);\n",
    "    else\n",
    "        A = Problem.A;\n",
    "    end\n",
    "endfunction"
   ]
  },
  {
   "cell_type": "code",
   "execution_count": 3,
   "metadata": {
    "scrolled": true
   },
   "outputs": [],
   "source": [
    "% Esempio di come utilizzare la precedente funzione\n",
    "% whos\n",
    "% A = loadFunctionFromData('./data/cage15.mat');\n",
    "% columns(A)\n",
    "% rows(A)\n",
    "% clear\n",
    "% A = loadFunctionFromData('./data/vas_stokes_2M.mat');\n",
    "% columns(A)\n",
    "% rows(A)"
   ]
  },
  {
   "cell_type": "markdown",
   "metadata": {},
   "source": [
    "La seguente funzione genera i dati iniziali per poter utilizzare GMRES."
   ]
  },
  {
   "cell_type": "code",
   "execution_count": 4,
   "metadata": {},
   "outputs": [],
   "source": [
    "function [A b x0] = generateData(dim, den, seed=69, randx0=false)\n",
    "    rand(\"seed\", seed);\n",
    "    A = sprand(dim, dim, den);\n",
    "    b = rand(dim, 1);\n",
    "    \n",
    "    if (randx0)\n",
    "        x0 = rand(dim, 1);\n",
    "    else\n",
    "        x0 = zeros(dim, 1);\n",
    "    end\n",
    "endfunction"
   ]
  },
  {
   "cell_type": "code",
   "execution_count": 5,
   "metadata": {},
   "outputs": [],
   "source": [
    "function [A b x0] = generateData2(dim, n=-4, seed=69, randx0=false)\n",
    "    rand(\"seed\", seed);\n",
    "    mu = 0;\n",
    "    sigma = 1/(2*sqrt(dim));\n",
    "    A = n * eye(dim) + normrnd(mu, sigma, dim);\n",
    "    b = ones(dim, 1);\n",
    "%     A = sprand(dim, dim, den);\n",
    "%     b = rand(dim, 1);\n",
    "    \n",
    "    if (randx0)\n",
    "        x0 = rand(dim, 1);\n",
    "    else\n",
    "        x0 = zeros(dim, 1);\n",
    "    end\n",
    "endfunction"
   ]
  },
  {
   "cell_type": "markdown",
   "metadata": {},
   "source": [
    "GMRES function"
   ]
  },
  {
   "cell_type": "code",
   "execution_count": 6,
   "metadata": {},
   "outputs": [],
   "source": [
    "function [x res] = mygmres(A, b, x0, k, tol)\n",
    "    n = size(b)(1);\n",
    "    r0 = b - A * x0;\n",
    "    beta = norm(r0, 2);\n",
    "    \n",
    "    H = zeros(k+2, k+1);\n",
    "    Q = zeros(n, k+1);\n",
    "    Q(:, 1) = r0/norm(r0, 2);\n",
    "    \n",
    "    en = zeros(k+2, 1);\n",
    "    en(1) = 1;\n",
    "        \n",
    "    for j = 1:k  %% TODO: ricontrollare\n",
    "%         imagesc(H);\n",
    "        v = A*Q(:, j);   \n",
    "        for i = 1:j\n",
    "            H(i,j) = Q(:,i)' * v;\n",
    "            v = v - H(i, j) * Q(:, i);\n",
    "        end\n",
    "        \n",
    "        % ortogonalizzazione ??\n",
    "        v = mgorth(v, Q);\n",
    "%         H = gramschmidt(H);\n",
    "%         Q = gramschmidt(Q);\n",
    "        \n",
    "        H(j+1, j) = norm(v, 2);\n",
    "        Q(:, j+1) = v / H(j+1, j);\n",
    "        \n",
    "%         if (abs(H(j+1, j)) > tol)\n",
    "%             Q(:, j+1) = Q(:,j+1)/H(j+1,j);\n",
    "%         end\n",
    "        \n",
    "        e1 = en(1:j+2);\n",
    "        \n",
    "        y =(H(1:j+2,1:j+1))\\(beta *e1);\n",
    "%         y =(H(1:j+2,1:j+1))\\(beta *e1);\n",
    "        res(j) = norm(H(1:j+2,1:j+1)*y - beta*e1, 2);\n",
    "\n",
    "        if (res(j) < tol)\n",
    "            x = Q(:, 1:j+1)*y +x0;\n",
    "            disp('🚀 Raggiunta Tolleranza, stop');\n",
    "            imagesc(H);\n",
    "            return;\n",
    "        end\n",
    "    end\n",
    "    x = Q(:, 1:j+1)*y +x0;\n",
    "    disp('🐌 Raggiunto massimo numero di Iterazioni');\n",
    "    imagesc(H);\n",
    "\n",
    "endfunction"
   ]
  },
  {
   "cell_type": "markdown",
   "metadata": {},
   "source": [
    "## Test 1 - Random Matrix"
   ]
  },
  {
   "cell_type": "code",
   "execution_count": 7,
   "metadata": {},
   "outputs": [],
   "source": [
    "[A, b, x0] = generateData(100, .5);"
   ]
  },
  {
   "cell_type": "code",
   "execution_count": 8,
   "metadata": {
    "scrolled": false
   },
   "outputs": [],
   "source": [
    "% A\n",
    "% b\n",
    "% x0\n",
    "% L = gramschmidt(A)"
   ]
  },
  {
   "cell_type": "code",
   "execution_count": 9,
   "metadata": {},
   "outputs": [
    {
     "name": "stdout",
     "output_type": "stream",
     "text": [
      "🐌 Raggiunto massimo numero di Iterazioni\r\n"
     ]
    },
    {
     "data": {
      "image/png": "[encoded data removed]",
      "text/plain": [
       "<IPython.core.display.Image object>"
      ]
     },
     "metadata": {},
     "output_type": "display_data"
    }
   ],
   "source": [
    "[x, res] = mygmres(A, b, x0, 50, 1e-10);"
   ]
  },
  {
   "cell_type": "code",
   "execution_count": 10,
   "metadata": {},
   "outputs": [
    {
     "name": "stdout",
     "output_type": "stream",
     "text": [
      "x =\n",
      "\n",
      "   4.4201e-02\n",
      "  -4.1279e-03\n",
      "   4.2968e-02\n",
      "  -3.5338e-03\n",
      "   4.8635e-02\n",
      "   2.4289e-02\n",
      "   1.2011e-03\n",
      "   3.1120e-02\n",
      "  -7.0268e-03\n",
      "   1.4508e-02\n",
      "  -1.7097e-04\n",
      "   2.4878e-02\n",
      "   6.2583e-02\n",
      "  -2.5932e-03\n",
      "   2.7875e-02\n",
      "   2.0072e-02\n",
      "   4.3168e-02\n",
      "  -5.3860e-03\n",
      "   4.4543e-02\n",
      "   3.0766e-02\n",
      "   5.7130e-03\n",
      "   5.0829e-02\n",
      "  -1.2621e-02\n",
      "   1.6960e-02\n",
      "   3.7923e-02\n",
      "  -1.2432e-02\n",
      "  -3.1310e-03\n",
      "   3.8166e-02\n",
      "   2.4917e-03\n",
      "   4.7322e-02\n",
      "   2.9952e-02\n",
      "   2.7014e-02\n",
      "   6.1976e-02\n",
      "  -1.0369e-03\n",
      "   1.5877e-02\n",
      "   7.2078e-03\n",
      "   2.7721e-02\n",
      "   1.7046e-02\n",
      "   4.7121e-02\n",
      "   2.7525e-02\n",
      "  -2.3732e-03\n",
      "   5.6331e-02\n",
      "  -4.3042e-03\n",
      "   3.4995e-02\n",
      "   4.6499e-02\n",
      "   4.5734e-02\n",
      "   2.1907e-02\n",
      "   5.3691e-02\n",
      "   2.8005e-02\n",
      "   2.8274e-02\n",
      "   1.8649e-02\n",
      "   5.6404e-02\n",
      "   4.5339e-02\n",
      "   3.9993e-02\n",
      "   4.3605e-02\n",
      "   6.6429e-02\n",
      "   1.1399e-02\n",
      "   5.2815e-02\n",
      "   2.8207e-02\n",
      "   2.9847e-02\n",
      "   5.3352e-02\n",
      "   5.3772e-02\n",
      "   4.7085e-02\n",
      "  -1.5444e-02\n",
      "   5.1572e-02\n",
      "   5.6228e-02\n",
      "   2.1000e-02\n",
      "   4.4152e-02\n",
      "   4.5363e-02\n",
      "   1.5875e-03\n",
      "   2.6607e-02\n",
      "   4.5126e-03\n",
      "   1.4052e-02\n",
      "   2.5649e-02\n",
      "   1.0351e-03\n",
      "   5.1972e-02\n",
      "   6.5017e-02\n",
      "   3.5858e-02\n",
      "   1.1188e-03\n",
      "   3.8941e-02\n",
      "   4.4373e-02\n",
      "   3.1339e-02\n",
      "   7.0767e-02\n",
      "   3.7534e-02\n",
      "   6.2780e-02\n",
      "   3.9068e-02\n",
      "   2.6924e-03\n",
      "   3.0538e-03\n",
      "  -1.4988e-03\n",
      "   2.6631e-02\n",
      "  -4.1264e-03\n",
      "   2.7845e-02\n",
      "   3.0050e-02\n",
      "   4.7157e-02\n",
      "   4.9228e-03\n",
      "   2.5335e-02\n",
      "   4.4227e-02\n",
      "   9.3460e-03\n",
      "   5.8729e-03\n",
      "   2.0573e-02\n",
      "\n",
      "x_true =\n",
      "\n",
      "  -1.0621308\n",
      "   0.7481357\n",
      "  -0.1918956\n",
      "   1.3169211\n",
      "   0.2944564\n",
      "   0.9444023\n",
      "  -0.0797773\n",
      "  -0.6985566\n",
      "   0.1985555\n",
      "   0.9701770\n",
      "   0.4301884\n",
      "  -0.1095475\n",
      "  -1.7405315\n",
      "   1.7676574\n",
      "   1.3965346\n",
      "   0.4417025\n",
      "  -0.1037062\n",
      "   0.0555431\n",
      "  -0.6894847\n",
      "   0.0068947\n",
      "  -0.4306706\n",
      "  -1.1501260\n",
      "   0.7481410\n",
      "  -0.8274757\n",
      "   0.8462388\n",
      "  -0.8041499\n",
      "  -1.9397882\n",
      "  -0.5101689\n",
      "   0.1165454\n",
      "  -0.5656600\n",
      "   1.6612863\n",
      "   1.9685056\n",
      "   0.5222863\n",
      "  -0.1854906\n",
      "   0.7618232\n",
      "   0.6547969\n",
      "  -0.0305007\n",
      "   1.0043214\n",
      "   0.5295182\n",
      "   1.0272221\n",
      "   0.7163115\n",
      "   1.3857058\n",
      "   0.1876720\n",
      "  -0.2760694\n",
      "  -0.9306892\n",
      "   1.3829576\n",
      "   0.1099451\n",
      "  -0.4172027\n",
      "  -0.7438630\n",
      "  -1.5787693\n",
      "   2.0032340\n",
      "   1.0988646\n",
      "   0.2766170\n",
      "  -0.4935043\n",
      "   0.2301442\n",
      "   0.6241152\n",
      "  -0.7633377\n",
      "  -1.0871524\n",
      "   0.3389027\n",
      "   0.5022772\n",
      "   0.6133944\n",
      "  -2.4509729\n",
      "   2.2987667\n",
      "  -0.2709231\n",
      "  -0.5294866\n",
      "   0.9149973\n",
      "   0.3695696\n",
      "  -0.9353316\n",
      "  -0.2046830\n",
      "   1.0992392\n",
      "  -0.5953280\n",
      "  -0.1866144\n",
      "  -1.9254917\n",
      "   0.3695803\n",
      "  -0.9700791\n",
      "   0.4399878\n",
      "  -2.2520361\n",
      "  -0.5037631\n",
      "  -0.0489662\n",
      "  -0.9569673\n",
      "  -0.8997403\n",
      "   0.7019360\n",
      "  -0.1128249\n",
      "   0.8655076\n",
      "  -1.4567820\n",
      "  -0.5548311\n",
      "   0.8049629\n",
      "  -0.1585008\n",
      "  -0.2299241\n",
      "  -0.0308114\n",
      "   0.4486520\n",
      "   0.0613844\n",
      "  -0.3398814\n",
      "   0.4782104\n",
      "  -0.0356518\n",
      "   0.7659830\n",
      "   0.0978125\n",
      "  -1.6462250\n",
      "  -1.0758826\n",
      "   0.1719150\n",
      "\n",
      "ans =  2.2517\n"
     ]
    }
   ],
   "source": [
    "x\n",
    "x_true = A\\b\n",
    "max(x_true-x)"
   ]
  },
  {
   "cell_type": "code",
   "execution_count": 11,
   "metadata": {},
   "outputs": [
    {
     "data": {
      "image/png": "[encoded data removed]",
      "text/plain": [
       "<IPython.core.display.Image object>"
      ]
     },
     "metadata": {},
     "output_type": "display_data"
    },
    {
     "data": {
      "image/png": "[encoded data removed]",
      "text/plain": [
       "<IPython.core.display.Image object>"
      ]
     },
     "metadata": {},
     "output_type": "display_data"
    }
   ],
   "source": [
    "figure();\n",
    "plot(res);\n",
    "figure();\n",
    "semilogy(res);"
   ]
  },
  {
   "cell_type": "markdown",
   "metadata": {},
   "source": [
    "## Test 2 - randnorm()"
   ]
  },
  {
   "cell_type": "code",
   "execution_count": 12,
   "metadata": {
    "scrolled": false
   },
   "outputs": [
    {
     "name": "stdout",
     "output_type": "stream",
     "text": [
      "🍌 n = -4\n",
      "🚀 Raggiunta Tolleranza, stop\n",
      "approx_error =  0.12744\n",
      "🍌 n = -2\n",
      "🚀 Raggiunta Tolleranza, stop\n",
      "approx_error =  0.43624\n",
      "🍌 n = 0\n",
      "🐌 Raggiunto massimo numero di Iterazioni\n",
      "approx_error =  76.429\n",
      "🍌 n = 2\n",
      "🚀 Raggiunta Tolleranza, stop\n",
      "approx_error =  0.46084\n",
      "🍌 n = 4\n",
      "🚀 Raggiunta Tolleranza, stop\n",
      "approx_error =  0.10026\n"
     ]
    },
    {
     "data": {
      "image/png": "[encoded data removed]",
      "text/plain": [
       "<IPython.core.display.Image object>"
      ]
     },
     "metadata": {},
     "output_type": "display_data"
    },
    {
     "data": {
      "image/png": "[encoded data removed]",
      "text/plain": [
       "<IPython.core.display.Image object>"
      ]
     },
     "metadata": {},
     "output_type": "display_data"
    },
    {
     "data": {
      "image/png": "[encoded data removed]",
      "text/plain": [
       "<IPython.core.display.Image object>"
      ]
     },
     "metadata": {},
     "output_type": "display_data"
    },
    {
     "data": {
      "image/png": "[encoded data removed]",
      "text/plain": [
       "<IPython.core.display.Image object>"
      ]
     },
     "metadata": {},
     "output_type": "display_data"
    },
    {
     "data": {
      "image/png": "[encoded data removed]",
      "text/plain": [
       "<IPython.core.display.Image object>"
      ]
     },
     "metadata": {},
     "output_type": "display_data"
    },
    {
     "data": {
      "image/png": "[encoded data removed]",
      "text/plain": [
       "<IPython.core.display.Image object>"
      ]
     },
     "metadata": {},
     "output_type": "display_data"
    },
    {
     "data": {
      "image/png": "[encoded data removed]",
      "text/plain": [
       "<IPython.core.display.Image object>"
      ]
     },
     "metadata": {},
     "output_type": "display_data"
    },
    {
     "data": {
      "image/png": "[encoded data removed]",
      "text/plain": [
       "<IPython.core.display.Image object>"
      ]
     },
     "metadata": {},
     "output_type": "display_data"
    },
    {
     "data": {
      "image/png": "[encoded data removed]",
      "text/plain": [
       "<IPython.core.display.Image object>"
      ]
     },
     "metadata": {},
     "output_type": "display_data"
    },
    {
     "data": {
      "image/png": "[encoded data removed]",
      "text/plain": [
       "<IPython.core.display.Image object>"
      ]
     },
     "metadata": {},
     "output_type": "display_data"
    }
   ],
   "source": [
    "for n = [-4 -2 0 2 4]\n",
    "    figure();\n",
    "    printf(\"🍌 n = %d\\n\", n)\n",
    "    [A, b, x0] = generateData2(200, n=n);\n",
    "    [x, res] = mygmres(A, b, x0, 50, 1e-10);\n",
    "    \n",
    "    % x;\n",
    "    x_true = A\\b;\n",
    "    approx_error = max(x_true-x)\n",
    "    \n",
    "    figure();\n",
    "    title([\"GMRES with n = \" mat2str(n)]);\n",
    "    semilogy(res);\n",
    "end"
   ]
  },
  {
   "cell_type": "markdown",
   "metadata": {},
   "source": [
    "## GMRES(m)"
   ]
  },
  {
   "cell_type": "code",
   "execution_count": 13,
   "metadata": {},
   "outputs": [],
   "source": [
    "function [x res] = myrgmres(A, b, x0, k, tol, m)\n",
    "    restartCount = 0;\n",
    "    res = [];\n",
    "    n = size(b)(1);\n",
    "    en = zeros(k+2, 1);\n",
    "    en(1) = 1;\n",
    "    \n",
    "    while (restartCount < m)\n",
    "        H = zeros(k+2, k+1);\n",
    "        Q = zeros(n, k+1);\n",
    "\n",
    "        r0 = b - A * x0;\n",
    "        beta = norm(r0, 2);\n",
    "        Q(:, 1) = r0/norm(r0, 2);\n",
    "\n",
    "        for j = 1:k  %% TODO: ricontrollare\n",
    "    %         imagesc(H);\n",
    "            v = A*Q(:, j);   \n",
    "            for i = 1:j\n",
    "                H(i,j) = Q(:,i)' * v;\n",
    "                v = v - H(i, j) * Q(:, i);\n",
    "            end\n",
    "%             v = myGramschmidt(v);\n",
    "%             v =  gramschmidt(v);\n",
    "            v = mgorth(v, Q);  % equivalente a quella sopra\n",
    "            H(j+1, j) = norm(v, 2);\n",
    "%             Q(:, j+1) = mgorth(Q(:, j+1), Q); \n",
    "            Q(:, j+1) = v / H(j+1, j);\n",
    "            \n",
    "    %         if (abs(H(j+1, j)) > tol)\n",
    "    %             Q(:, j+1) = Q(:,j+1)/H(j+1,j);\n",
    "    %         end\n",
    "\n",
    "            e1 = en(1:j+2);\n",
    "\n",
    "            y =(H(1:j+2,1:j+1))\\(beta *e1);\n",
    "            res = [res norm(H(1:j+2,1:j+1)*y - beta*e1, 2)];\n",
    "\n",
    "            if (res(end) < tol)\n",
    "                x = Q(:, 1:j+1)*y +x0;\n",
    "                disp('🚀 Raggiunta Tolleranza, stop');\n",
    "                imagesc(H);\n",
    "                return;\n",
    "            end\n",
    "        end\n",
    "        x = Q(:, 1:j+1)*y +x0;\n",
    "        x0 = x;\n",
    "%         sum(x0)\n",
    "        restartCount = restartCount + 1;\n",
    "        disp('🐌 Raggiunto massimo numero di Iterazioni');\n",
    "        disp('🗿 Restarting ...');\n",
    "%         imagesc(H);\n",
    "    end\n",
    "    x = Q(:, 1:j+1)*y +x0;\n",
    "    disp('❌ Raggiunto massimo numero di Restart');\n",
    "    imagesc(H);\n",
    "endfunction"
   ]
  },
  {
   "cell_type": "code",
   "execution_count": 14,
   "metadata": {
    "scrolled": true
   },
   "outputs": [
    {
     "name": "stdout",
     "output_type": "stream",
     "text": [
      "🐌 Raggiunto massimo numero di Iterazioni\n",
      "🗿 Restarting ...\n",
      "🐌 Raggiunto massimo numero di Iterazioni\n",
      "🗿 Restarting ...\n",
      "🐌 Raggiunto massimo numero di Iterazioni\n",
      "🗿 Restarting ...\n",
      "🐌 Raggiunto massimo numero di Iterazioni\n",
      "🗿 Restarting ...\n",
      "🐌 Raggiunto massimo numero di Iterazioni\n",
      "🗿 Restarting ...\n",
      "🐌 Raggiunto massimo numero di Iterazioni\n",
      "🗿 Restarting ...\n",
      "🐌 Raggiunto massimo numero di Iterazioni\n",
      "🗿 Restarting ...\n",
      "🐌 Raggiunto massimo numero di Iterazioni\n",
      "🗿 Restarting ...\n",
      "🐌 Raggiunto massimo numero di Iterazioni\n",
      "🗿 Restarting ...\n",
      "🐌 Raggiunto massimo numero di Iterazioni\n",
      "🗿 Restarting ...\n",
      "🐌 Raggiunto massimo numero di Iterazioni\n",
      "🗿 Restarting ...\n",
      "🐌 Raggiunto massimo numero di Iterazioni\n",
      "🗿 Restarting ...\n",
      "🐌 Raggiunto massimo numero di Iterazioni\n",
      "🗿 Restarting ...\n",
      "🐌 Raggiunto massimo numero di Iterazioni\n",
      "🗿 Restarting ...\n",
      "🐌 Raggiunto massimo numero di Iterazioni\n",
      "🗿 Restarting ...\n",
      "🐌 Raggiunto massimo numero di Iterazioni\n",
      "🗿 Restarting ...\n",
      "🐌 Raggiunto massimo numero di Iterazioni\n",
      "🗿 Restarting ...\n",
      "🐌 Raggiunto massimo numero di Iterazioni\n",
      "🗿 Restarting ...\n",
      "🐌 Raggiunto massimo numero di Iterazioni\n",
      "🗿 Restarting ...\n",
      "🐌 Raggiunto massimo numero di Iterazioni\n",
      "🗿 Restarting ...\n",
      "🐌 Raggiunto massimo numero di Iterazioni\n",
      "🗿 Restarting ...\n",
      "🐌 Raggiunto massimo numero di Iterazioni\n",
      "🗿 Restarting ...\n",
      "🐌 Raggiunto massimo numero di Iterazioni\n",
      "🗿 Restarting ...\n",
      "🐌 Raggiunto massimo numero di Iterazioni\n",
      "🗿 Restarting ...\n",
      "🐌 Raggiunto massimo numero di Iterazioni\n",
      "🗿 Restarting ...\n",
      "🐌 Raggiunto massimo numero di Iterazioni\n",
      "🗿 Restarting ...\n",
      "🐌 Raggiunto massimo numero di Iterazioni\n",
      "🗿 Restarting ...\n",
      "🐌 Raggiunto massimo numero di Iterazioni\n",
      "🗿 Restarting ...\n",
      "🐌 Raggiunto massimo numero di Iterazioni\n",
      "🗿 Restarting ...\n",
      "🐌 Raggiunto massimo numero di Iterazioni\n",
      "🗿 Restarting ...\n",
      "🐌 Raggiunto massimo numero di Iterazioni\n",
      "🗿 Restarting ...\n",
      "🐌 Raggiunto massimo numero di Iterazioni\n",
      "🗿 Restarting ...\n",
      "🐌 Raggiunto massimo numero di Iterazioni\n",
      "🗿 Restarting ...\n",
      "🐌 Raggiunto massimo numero di Iterazioni\n",
      "🗿 Restarting ...\n",
      "🐌 Raggiunto massimo numero di Iterazioni\n",
      "🗿 Restarting ...\n",
      "🐌 Raggiunto massimo numero di Iterazioni\n",
      "🗿 Restarting ...\n",
      "🐌 Raggiunto massimo numero di Iterazioni\n",
      "🗿 Restarting ...\n",
      "🐌 Raggiunto massimo numero di Iterazioni\n",
      "🗿 Restarting ...\n",
      "🐌 Raggiunto massimo numero di Iterazioni\n",
      "🗿 Restarting ...\n",
      "🐌 Raggiunto massimo numero di Iterazioni\n",
      "🗿 Restarting ...\n",
      "🐌 Raggiunto massimo numero di Iterazioni\n",
      "🗿 Restarting ...\n",
      "🐌 Raggiunto massimo numero di Iterazioni\n",
      "🗿 Restarting ...\n",
      "🐌 Raggiunto massimo numero di Iterazioni\n",
      "🗿 Restarting ...\n",
      "🐌 Raggiunto massimo numero di Iterazioni\n",
      "🗿 Restarting ...\n",
      "🐌 Raggiunto massimo numero di Iterazioni\n",
      "🗿 Restarting ...\n",
      "🐌 Raggiunto massimo numero di Iterazioni\n",
      "🗿 Restarting ...\n",
      "🐌 Raggiunto massimo numero di Iterazioni\n",
      "🗿 Restarting ...\n",
      "🐌 Raggiunto massimo numero di Iterazioni\n",
      "🗿 Restarting ...\n",
      "🐌 Raggiunto massimo numero di Iterazioni\n",
      "🗿 Restarting ...\n",
      "🐌 Raggiunto massimo numero di Iterazioni\n",
      "🗿 Restarting ...\n",
      "❌ Raggiunto massimo numero di Restart\n"
     ]
    },
    {
     "data": {
      "image/png": "[encoded data removed]",
      "text/plain": [
       "<IPython.core.display.Image object>"
      ]
     },
     "metadata": {},
     "output_type": "display_data"
    }
   ],
   "source": [
    "[A, b, x0] = generateData(200, .5);\n",
    "[x, res] = myrgmres(A, b, x0, 100, 1e-10, 50);"
   ]
  },
  {
   "cell_type": "code",
   "execution_count": 15,
   "metadata": {},
   "outputs": [
    {
     "data": {
      "image/png": "[encoded data removed]",
      "text/plain": [
       "<IPython.core.display.Image object>"
      ]
     },
     "metadata": {},
     "output_type": "display_data"
    }
   ],
   "source": [
    "semilogy(res);"
   ]
  },
  {
   "cell_type": "code",
   "execution_count": 18,
   "metadata": {
    "scrolled": true
   },
   "outputs": [
    {
     "name": "stdout",
     "output_type": "stream",
     "text": [
      "🍌 n = -4\n",
      "🚀 Raggiunta Tolleranza, stop\n",
      "approx_error =  0.086834\n",
      "normm =  1.9258\n",
      "🍌 n = -2\n",
      "🚀 Raggiunta Tolleranza, stop\n",
      "approx_error =  0.51622\n",
      "normm =  4.3259\n",
      "🍌 n = 0\n",
      "🐌 Raggiunto massimo numero di Iterazioni\n",
      "🗿 Restarting ...\n",
      "🐌 Raggiunto massimo numero di Iterazioni\n",
      "🗿 Restarting ...\n",
      "🐌 Raggiunto massimo numero di Iterazioni\n",
      "🗿 Restarting ...\n",
      "🐌 Raggiunto massimo numero di Iterazioni\n",
      "🗿 Restarting ...\n",
      "🐌 Raggiunto massimo numero di Iterazioni\n",
      "🗿 Restarting ...\n",
      "🐌 Raggiunto massimo numero di Iterazioni\n",
      "🗿 Restarting ...\n",
      "🐌 Raggiunto massimo numero di Iterazioni\n",
      "🗿 Restarting ...\n",
      "🐌 Raggiunto massimo numero di Iterazioni\n",
      "🗿 Restarting ...\n",
      "🐌 Raggiunto massimo numero di Iterazioni\n",
      "🗿 Restarting ...\n",
      "🐌 Raggiunto massimo numero di Iterazioni\n",
      "🗿 Restarting ...\n",
      "❌ Raggiunto massimo numero di Restart\n",
      "approx_error =  208.52\n",
      "normm =  12.710\n",
      "🍌 n = 2\n",
      "🚀 Raggiunta Tolleranza, stop\n",
      "approx_error =  0.38168\n",
      "normm =  4.1076\n",
      "🍌 n = 4\n",
      "🚀 Raggiunta Tolleranza, stop\n",
      "approx_error =  0.083456\n",
      "normm =  1.8354\n"
     ]
    },
    {
     "data": {
      "image/png": "[encoded data removed]",
      "text/plain": [
       "<IPython.core.display.Image object>"
      ]
     },
     "metadata": {},
     "output_type": "display_data"
    },
    {
     "data": {
      "image/png": "[encoded data removed]",
      "text/plain": [
       "<IPython.core.display.Image object>"
      ]
     },
     "metadata": {},
     "output_type": "display_data"
    },
    {
     "data": {
      "image/png": "[encoded data removed]",
      "text/plain": [
       "<IPython.core.display.Image object>"
      ]
     },
     "metadata": {},
     "output_type": "display_data"
    },
    {
     "data": {
      "image/png": "[encoded data removed]",
      "text/plain": [
       "<IPython.core.display.Image object>"
      ]
     },
     "metadata": {},
     "output_type": "display_data"
    },
    {
     "data": {
      "image/png": "[encoded data removed]",
      "text/plain": [
       "<IPython.core.display.Image object>"
      ]
     },
     "metadata": {},
     "output_type": "display_data"
    },
    {
     "data": {
      "image/png": "[encoded data removed]",
      "text/plain": [
       "<IPython.core.display.Image object>"
      ]
     },
     "metadata": {},
     "output_type": "display_data"
    },
    {
     "data": {
      "image/png": "[encoded data removed]",
      "text/plain": [
       "<IPython.core.display.Image object>"
      ]
     },
     "metadata": {},
     "output_type": "display_data"
    },
    {
     "data": {
      "image/png": "[encoded data removed]",
      "text/plain": [
       "<IPython.core.display.Image object>"
      ]
     },
     "metadata": {},
     "output_type": "display_data"
    },
    {
     "data": {
      "image/png": "[encoded data removed]",
      "text/plain": [
       "<IPython.core.display.Image object>"
      ]
     },
     "metadata": {},
     "output_type": "display_data"
    },
    {
     "data": {
      "image/png": "[encoded data removed]",
      "text/plain": [
       "<IPython.core.display.Image object>"
      ]
     },
     "metadata": {},
     "output_type": "display_data"
    }
   ],
   "source": [
    "for n = [-4 -2 0 2 4]\n",
    "    figure();\n",
    "    printf(\"🍌 n = %d\\n\", n)\n",
    "    [A, b, x0] = generateData2(200, n=n);\n",
    "    [x, res] = myrgmres(A, b, x0, 50, 1e-10, 100);\n",
    "    \n",
    "    % x;\n",
    "    x_true = A\\b;\n",
    "    approx_error = max(x_true-x)\n",
    "    normm = norm(A*x - b)\n",
    "    \n",
    "    figure();\n",
    "    title([\"GMRES with n = \" mat2str(n)]);\n",
    "    semilogy(res);\n",
    "end"
   ]
  },
  {
   "cell_type": "code",
   "execution_count": null,
   "metadata": {},
   "outputs": [],
   "source": []
  },
  {
   "cell_type": "code",
   "execution_count": null,
   "metadata": {},
   "outputs": [],
   "source": []
  },
  {
   "cell_type": "code",
   "execution_count": null,
   "metadata": {},
   "outputs": [],
   "source": []
  },
  {
   "cell_type": "code",
   "execution_count": null,
   "metadata": {},
   "outputs": [],
   "source": []
  },
  {
   "cell_type": "code",
   "execution_count": null,
   "metadata": {},
   "outputs": [],
   "source": [
    "%% questo non sembra funzionare\n",
    "function [B] = myGramschmidt(A)\n",
    "    B = A;\n",
    "\n",
    "    for k = 1:size(A, 1)\n",
    "        for j = 1:k-1\n",
    "            B(k, :) = B(k, :) - proj(B(j, :), A(k, :));\n",
    "        end\n",
    "    end\n",
    "end\n",
    "\n",
    "function p = proj(u, v)\n",
    "% https://en.wikipedia.org/wiki/Gram%E2%80%93Schmidt_process#The_Gram.E2.80.93Schmidt_process\n",
    "    p = dot(v, u) / dot(u, u) * u;\n",
    "end"
   ]
  },
  {
   "cell_type": "code",
   "execution_count": null,
   "metadata": {},
   "outputs": [],
   "source": []
  },
  {
   "cell_type": "code",
   "execution_count": null,
   "metadata": {},
   "outputs": [],
   "source": []
  },
  {
   "cell_type": "code",
   "execution_count": null,
   "metadata": {},
   "outputs": [],
   "source": [
    "function [U]=gramschmidt(V)\n",
    "[n,k] = size(V);\n",
    "U = zeros(n,k);\n",
    "U(:,1) = V(:,1)/norm(V(:,1));\n",
    "for i = 2:k\n",
    "    U(:,i)=V(:,i);\n",
    "    for j=1:i-1\n",
    "        U(:,i)=U(:,i)-(U(:,j)'*U(:,i)) * U(:,j);\n",
    "    end\n",
    "    U(:,i) = U(:,i)/norm(U(:,i));\n",
    "end\n",
    "end"
   ]
  },
  {
   "cell_type": "code",
   "execution_count": null,
   "metadata": {},
   "outputs": [],
   "source": []
  },
  {
   "cell_type": "code",
   "execution_count": null,
   "metadata": {},
   "outputs": [],
   "source": [
    "aaa = [1 2 3]\n",
    "aaa = [aaa 90]"
   ]
  },
  {
   "cell_type": "code",
   "execution_count": null,
   "metadata": {},
   "outputs": [],
   "source": [
    "aaa(end)"
   ]
  },
  {
   "cell_type": "code",
   "execution_count": null,
   "metadata": {},
   "outputs": [],
   "source": [
    "aaa = []\n",
    "aaa = [aaa 2]\n",
    "aaa = [aaa 22]"
   ]
  },
  {
   "cell_type": "code",
   "execution_count": null,
   "metadata": {},
   "outputs": [],
   "source": []
  },
  {
   "cell_type": "code",
   "execution_count": null,
   "metadata": {},
   "outputs": [],
   "source": []
  },
  {
   "cell_type": "code",
   "execution_count": null,
   "metadata": {},
   "outputs": [],
   "source": []
  },
  {
   "cell_type": "code",
   "execution_count": null,
   "metadata": {},
   "outputs": [],
   "source": []
  },
  {
   "cell_type": "code",
   "execution_count": null,
   "metadata": {},
   "outputs": [],
   "source": []
  },
  {
   "cell_type": "code",
   "execution_count": null,
   "metadata": {},
   "outputs": [],
   "source": [
    "function [Q, H, breakdown] = ANROLDI(A, b,Qold, Hold, n, tol)\n",
    "    Hold\n",
    "    if any(Hold) || isempty(Hold)\n",
    "        H = [0 0]'\n",
    "    else\n",
    "%         H = [Hold 0;\n",
    "%              0 0];\n",
    "        H = [Hold zeros(size(Hold, 1), 1);\n",
    "            zeros(1, size(Hold, 2) + 1)];\n",
    "    end\n",
    "    \n",
    "    Q = [Qold  zeros(size(Qold, 1), 1)];\n",
    "%     Qold\n",
    "    w = A * Q(:, n);\n",
    "    \n",
    "    for i = max(1, n-1):n\n",
    "        H(i, n) = Q(:, i)' * w;\n",
    "        w = w - H(i, n) * Q(:, i);\n",
    "    end\n",
    "    w\n",
    "    H(n+1, n) = norm(w);\n",
    "    breakdown = norm(H(n+1, n)) < tol;\n",
    "    Q(:, n+1) = w/norm(w);\n",
    "endfunction"
   ]
  },
  {
   "cell_type": "code",
   "execution_count": null,
   "metadata": {},
   "outputs": [],
   "source": [
    "function [x res] = altrogmres(A, b, x0, k, tol)\n",
    "    Q = ones(size(b, 1), size(b, 1));\n",
    "%     Q = zeros(;\n",
    "    H = [];\n",
    "    r0 = b - A * x0;\n",
    "    beta = norm(r0, 2);\n",
    "    e1 = zeros(size(b, 1), 1);\n",
    "    e1(1) = 1;\n",
    "    res = 0;\n",
    "    for j=1:k\n",
    "        [Q, H, breakdown] = ANROLDI(A, b, Q, H, j, tol);\n",
    "        \n",
    "        if (abs(H(j+1, j)) > tol)\n",
    "            Q(:, j+1) = Q(:,j+1)/H(j+1,j);\n",
    "        end\n",
    "        \n",
    "        e1 = zeros(j+1, 1);\n",
    "        e1(1) = 1;\n",
    "\n",
    "%         y =(H(1:j+2,1:j+1))\\(beta *e1);\n",
    "        y =H\\(beta *e1(1:j+1));\n",
    "%         res = norm(H(1:j+1,1:j)*y - beta*e1, 2);\n",
    "        x = Q(:, 1:j) * y\n",
    "%         disp(H(j+1,j))\n",
    "%         disp(e1(1:j+1)*y)\n",
    "%         res = (H(j+1,j) * abs(e1*y))/beta;\n",
    "%         if (res < tol)\n",
    "%             disp('Raggiunta toll');\n",
    "%             x = Q(:, 1:j+1)*y +x0;\n",
    "%             return;\n",
    "%         end\n",
    "    end\n",
    "endfunction\n"
   ]
  },
  {
   "cell_type": "code",
   "execution_count": null,
   "metadata": {},
   "outputs": [],
   "source": [
    "[x res] = altrogmres(A, b, x0, 10, 1e-10);"
   ]
  },
  {
   "cell_type": "code",
   "execution_count": null,
   "metadata": {
    "scrolled": true
   },
   "outputs": [],
   "source": [
    "isempty([])\n",
    "all([1 2 30])\n",
    "any([0 0 0])\n",
    "2 < 4\n",
    "any([])"
   ]
  },
  {
   "cell_type": "code",
   "execution_count": null,
   "metadata": {},
   "outputs": [],
   "source": [
    "x\n",
    "A\\b"
   ]
  },
  {
   "cell_type": "code",
   "execution_count": null,
   "metadata": {},
   "outputs": [],
   "source": [
    "t = [1 1 2;\n",
    "     2 2 3;\n",
    "     0 2 1;]"
   ]
  },
  {
   "cell_type": "code",
   "execution_count": null,
   "metadata": {
    "scrolled": true
   },
   "outputs": [],
   "source": [
    "[t zeros(size(t, 1), 1);\n",
    "    zeros(1, size(t, 2) + 1)]"
   ]
  },
  {
   "cell_type": "code",
   "execution_count": null,
   "metadata": {},
   "outputs": [],
   "source": [
    "size(t, 2)"
   ]
  },
  {
   "cell_type": "code",
   "execution_count": null,
   "metadata": {},
   "outputs": [],
   "source": [
    "x\n",
    "real_x = A\\b\n",
    "max(real_x - x)"
   ]
  },
  {
   "cell_type": "code",
   "execution_count": null,
   "metadata": {},
   "outputs": [],
   "source": [
    "imshow(A);"
   ]
  },
  {
   "cell_type": "code",
   "execution_count": null,
   "metadata": {},
   "outputs": [],
   "source": [
    "test = [1 1 1 0 0;\n",
    "        0 1 1 1 0;\n",
    "        0 0 1 1 1;\n",
    "        0 0 0 1 1;]"
   ]
  },
  {
   "cell_type": "code",
   "execution_count": null,
   "metadata": {},
   "outputs": [],
   "source": [
    "imshow(test);"
   ]
  },
  {
   "cell_type": "code",
   "execution_count": null,
   "metadata": {},
   "outputs": [],
   "source": [
    "a = size([1 2 3])(2)"
   ]
  },
  {
   "cell_type": "code",
   "execution_count": null,
   "metadata": {},
   "outputs": [],
   "source": [
    "dim = 20;\n",
    "A = sprand(dim, dim, .5);\n",
    "b = rand(dim, 1);\n",
    "x0 = zeros(dim, 1);"
   ]
  },
  {
   "cell_type": "code",
   "execution_count": null,
   "metadata": {},
   "outputs": [],
   "source": [
    "rand(\"seed\", 20);\n"
   ]
  },
  {
   "cell_type": "code",
   "execution_count": null,
   "metadata": {},
   "outputs": [],
   "source": [
    "real_res = A\\b;"
   ]
  },
  {
   "cell_type": "code",
   "execution_count": null,
   "metadata": {},
   "outputs": [],
   "source": [
    "real_res - x"
   ]
  },
  {
   "cell_type": "code",
   "execution_count": null,
   "metadata": {},
   "outputs": [],
   "source": [
    "max(real_res- x )"
   ]
  },
  {
   "cell_type": "code",
   "execution_count": null,
   "metadata": {},
   "outputs": [],
   "source": [
    "rand(1, 3)"
   ]
  },
  {
   "cell_type": "code",
   "execution_count": null,
   "metadata": {},
   "outputs": [],
   "source": [
    "rand(3, 1)"
   ]
  },
  {
   "cell_type": "code",
   "execution_count": null,
   "metadata": {},
   "outputs": [],
   "source": [
    "rand(3)"
   ]
  },
  {
   "cell_type": "code",
   "execution_count": null,
   "metadata": {},
   "outputs": [],
   "source": [
    "zeros(3, 1)"
   ]
  },
  {
   "cell_type": "code",
   "execution_count": null,
   "metadata": {},
   "outputs": [],
   "source": [
    "function [x res] = cgmres(A, b, x0, k, tol)\n",
    "    n = size(b)(1);\n",
    "    Q = zeros(n, k+1);\n",
    "    H = zeros(k+1, k);\n",
    "    r0 = b - A * x0;\n",
    "    beta = norm(r0, 2);\n",
    "    Q(:, 1) = r0/norm(r0, 2);\n",
    "%     e1 = zeros(n, 1);\n",
    "%     e1(1) = 1;\n",
    "%     e1 = e1';\n",
    "    for j = 1:k  %% TODO: ricontrollare\n",
    "        imagesc(H);\n",
    "        disp(j);\n",
    "        \n",
    "        Q(:,j+1) = A * Q(:, j);\n",
    "        \n",
    "        for i = 1:j\n",
    "            H(i,j) = Q(:,i)' * Q(:, j+1);\n",
    "            Q(:, j+1) = Q(:, j+1) - H(i,j) * Q(:,i);\n",
    "        end\n",
    "        \n",
    "        H(j+1, j) = norm(Q(:, j+1), 2);\n",
    "        \n",
    "        if (abs(H(j+1, j)) > tol)\n",
    "            Q(:, j+1) = Q(:,j+1)/H(j+1,j);\n",
    "        end\n",
    "        \n",
    "        e1 = zeros(j+2, 1);\n",
    "        e1(1) = 1;\n",
    "%         e1 = e1';\n",
    "        %%TODO: ricontrollare\n",
    "%         y=0\n",
    "        y =(H(1:j+2,1:j+1))\\(beta *e1);\n",
    "        res = norm(H(1:j+2,1:j+1)*y - beta*e1, 2);\n",
    "        \n",
    "        if (res < tol)\n",
    "            disp('Raggiunta toll');\n",
    "            x = Q(:, 1:j+1)*y +x0;\n",
    "            return;\n",
    "        end\n",
    "    end\n",
    "    x = Q(:, 1:j+1)*y +x0;\n",
    "%     return;   % potrebbe essere superfluo\n",
    "endfunction"
   ]
  }
 ],
 "metadata": {
  "kernelspec": {
   "display_name": "Octave",
   "language": "octave",
   "name": "octave"
  },
  "language_info": {
   "file_extension": ".m",
   "help_links": [
    {
     "text": "GNU Octave",
     "url": "https://www.gnu.org/software/octave/support.html"
    },
    {
     "text": "Octave Kernel",
     "url": "https://github.com/Calysto/octave_kernel"
    },
    {
     "text": "MetaKernel Magics",
     "url": "https://metakernel.readthedocs.io/en/latest/source/README.html"
    }
   ],
   "mimetype": "text/x-octave",
   "name": "octave",
   "version": "4.2.2"
  }
 },
 "nbformat": 4,
 "nbformat_minor": 2
}
