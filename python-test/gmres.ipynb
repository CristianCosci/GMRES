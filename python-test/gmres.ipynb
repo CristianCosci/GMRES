{
 "cells": [
  {
   "cell_type": "code",
   "execution_count": 1,
   "metadata": {},
   "outputs": [],
   "source": [
    "import scipy.io as sio\n",
    "import mat73\n",
    "import numpy as np\n",
    "from scipy.linalg import lstsq\n",
    "from scipy.sparse.linalg import gmres\n",
    "from scipy.sparse import csr_matrix"
   ]
  },
  {
   "cell_type": "code",
   "execution_count": 2,
   "metadata": {},
   "outputs": [],
   "source": [
    "def loadmatrix(path:str):\n",
    "    try:\n",
    "        data_dict = mat73.loadmat(path)\n",
    "    except:\n",
    "        print('Vecchio formato')\n",
    "        data_dict = sio.loadmat(path)\n",
    "\n",
    "    return data_dict\n"
   ]
  },
  {
   "cell_type": "code",
   "execution_count": 3,
   "metadata": {},
   "outputs": [],
   "source": [
    "# data_dict = loadmatrix('cage15.mat')\n",
    "data_dict = loadmatrix('vas_stokes_2M.mat')"
   ]
  },
  {
   "cell_type": "code",
   "execution_count": 4,
   "metadata": {},
   "outputs": [],
   "source": [
    "A = data_dict['Problem']['A']\n",
    "b = np.random.rand(A.shape[0])\n",
    "x0 = np.zeros(A.shape[0])"
   ]
  },
  {
   "cell_type": "code",
   "execution_count": 5,
   "metadata": {},
   "outputs": [
    {
     "ename": "KeyboardInterrupt",
     "evalue": "",
     "output_type": "error",
     "traceback": [
      "\u001b[0;31m---------------------------------------------------------------------------\u001b[0m",
      "\u001b[0;31mKeyboardInterrupt\u001b[0m                         Traceback (most recent call last)",
      "Cell \u001b[0;32mIn[5], line 1\u001b[0m\n\u001b[0;32m----> 1\u001b[0m res, info \u001b[39m=\u001b[39m gmres(A, b, x0\u001b[39m=\u001b[39;49mx0, tol\u001b[39m=\u001b[39;49m\u001b[39m1e-05\u001b[39;49m, restart\u001b[39m=\u001b[39;49m\u001b[39mNone\u001b[39;49;00m)\n",
      "File \u001b[0;32m<decorator-gen-5>:2\u001b[0m, in \u001b[0;36mgmres\u001b[0;34m(A, b, x0, tol, restart, maxiter, M, callback, restrt, atol, callback_type)\u001b[0m\n",
      "File \u001b[0;32m~/.local/lib/python3.10/site-packages/scipy/_lib/_threadsafety.py:44\u001b[0m, in \u001b[0;36mReentrancyLock.decorate.<locals>.caller\u001b[0;34m(func, *a, **kw)\u001b[0m\n\u001b[1;32m     42\u001b[0m \u001b[39mdef\u001b[39;00m \u001b[39mcaller\u001b[39m(func, \u001b[39m*\u001b[39ma, \u001b[39m*\u001b[39m\u001b[39m*\u001b[39mkw):\n\u001b[1;32m     43\u001b[0m     \u001b[39mwith\u001b[39;00m \u001b[39mself\u001b[39m:\n\u001b[0;32m---> 44\u001b[0m         \u001b[39mreturn\u001b[39;00m func(\u001b[39m*\u001b[39;49ma, \u001b[39m*\u001b[39;49m\u001b[39m*\u001b[39;49mkw)\n",
      "File \u001b[0;32m~/.local/lib/python3.10/site-packages/scipy/sparse/linalg/_isolve/iterative.py:652\u001b[0m, in \u001b[0;36mgmres\u001b[0;34m(A, b, x0, tol, restart, maxiter, M, callback, restrt, atol, callback_type)\u001b[0m\n\u001b[1;32m    649\u001b[0m \u001b[39mwhile\u001b[39;00m \u001b[39mTrue\u001b[39;00m:\n\u001b[1;32m    650\u001b[0m     olditer \u001b[39m=\u001b[39m iter_\n\u001b[1;32m    651\u001b[0m     x, iter_, presid, info, ndx1, ndx2, sclr1, sclr2, ijob \u001b[39m=\u001b[39m \\\n\u001b[0;32m--> 652\u001b[0m        revcom(b, x, restrt, work, work2, iter_, presid, info, ndx1, ndx2, ijob, ptol)\n\u001b[1;32m    653\u001b[0m     \u001b[39mif\u001b[39;00m callback_type \u001b[39m==\u001b[39m \u001b[39m'\u001b[39m\u001b[39mx\u001b[39m\u001b[39m'\u001b[39m \u001b[39mand\u001b[39;00m iter_ \u001b[39m!=\u001b[39m olditer:\n\u001b[1;32m    654\u001b[0m         callback(x)\n",
      "\u001b[0;31mKeyboardInterrupt\u001b[0m: "
     ]
    }
   ],
   "source": [
    "res, info = gmres(A, b, x0=x0, maxiter=10, tol=1e-05, restart=None)"
   ]
  },
  {
   "cell_type": "code",
   "execution_count": null,
   "metadata": {},
   "outputs": [],
   "source": [
    "display(res, info)"
   ]
  },
  {
   "cell_type": "code",
   "execution_count": 1,
   "metadata": {},
   "outputs": [],
   "source": [
    "from scipy import sparse\n",
    "import numpy as np\n",
    "from scipy.sparse.linalg import gmres "
   ]
  },
  {
   "cell_type": "code",
   "execution_count": 2,
   "metadata": {},
   "outputs": [],
   "source": [
    "dim = 10000\n",
    "den = 1.\n",
    "A = sparse.random(dim, dim, density=den , format=\"csr\", dtype=np.float32)\n",
    "b = np.random.random(dim)\n",
    "x0 = np.zeros(dim) "
   ]
  },
  {
   "cell_type": "code",
   "execution_count": 8,
   "metadata": {},
   "outputs": [
    {
     "data": {
      "text/plain": [
       "<10000x10000 sparse matrix of type '<class 'numpy.float32'>'\n",
       "\twith 10000000 stored elements in Compressed Sparse Row format>"
      ]
     },
     "execution_count": 8,
     "metadata": {},
     "output_type": "execute_result"
    }
   ],
   "source": [
    "# A"
   ]
  },
  {
   "cell_type": "code",
   "execution_count": 3,
   "metadata": {},
   "outputs": [],
   "source": [
    "res = gmres(A,b, x0=x0, tol=1e-10, maxiter=10)"
   ]
  },
  {
   "cell_type": "code",
   "execution_count": 7,
   "metadata": {},
   "outputs": [
    {
     "data": {
      "text/plain": [
       "(array([8.36189133e-04, 5.03185710e-05, 1.00090674e-03, ...,\n",
       "        6.72562319e-05, 1.48048768e-03, 2.43039317e-03]),\n",
       " 10)"
      ]
     },
     "execution_count": 7,
     "metadata": {},
     "output_type": "execute_result"
    }
   ],
   "source": [
    "res"
   ]
  },
  {
   "cell_type": "code",
   "execution_count": 4,
   "metadata": {},
   "outputs": [],
   "source": [
    "from sys import getsizeof\n",
    "Adim = getsizeof(A)"
   ]
  },
  {
   "cell_type": "code",
   "execution_count": 5,
   "metadata": {},
   "outputs": [
    {
     "data": {
      "text/plain": [
       "48"
      ]
     },
     "execution_count": 5,
     "metadata": {},
     "output_type": "execute_result"
    }
   ],
   "source": [
    "Adim"
   ]
  },
  {
   "cell_type": "code",
   "execution_count": 8,
   "metadata": {},
   "outputs": [],
   "source": [
    "local_vars = list(locals().items())"
   ]
  },
  {
   "cell_type": "code",
   "execution_count": 9,
   "metadata": {},
   "outputs": [
    {
     "name": "stdout",
     "output_type": "stream",
     "text": [
      "__name__ 57\n",
      "__doc__ 113\n",
      "__package__ 16\n",
      "__loader__ 16\n",
      "__spec__ 16\n",
      "__builtin__ 72\n",
      "__builtins__ 72\n",
      "_ih 184\n",
      "_oh 232\n",
      "_dh 120\n",
      "In 184\n",
      "Out 232\n",
      "get_ipython 64\n",
      "exit 48\n",
      "quit 48\n",
      "open 144\n",
      "_ 408\n",
      "__ 28\n",
      "___ 49\n",
      "sys 72\n",
      "os 72\n",
      "__vsc_ipynb_file__ 118\n",
      "_i 71\n",
      "_ii 69\n",
      "_iii 53\n",
      "_i1 131\n",
      "sparse 72\n",
      "np 72\n",
      "gmres 144\n",
      "_i2 189\n",
      "dim 28\n",
      "den 24\n",
      "A 48\n",
      "b 80112\n",
      "x0 80112\n",
      "_i3 95\n",
      "res 56\n",
      "_i4 94\n",
      "getsizeof 72\n",
      "Adim 28\n",
      "_i5 53\n",
      "_5 28\n",
      "_i6 69\n",
      "_i7 71\n",
      "_7 408\n",
      "_i8 84\n"
     ]
    }
   ],
   "source": [
    "for var, obj in local_vars:\n",
    "    print(var, getsizeof(obj))"
   ]
  },
  {
   "cell_type": "code",
   "execution_count": 10,
   "metadata": {},
   "outputs": [
    {
     "name": "stdout",
     "output_type": "stream",
     "text": [
      "Variable     Type                          Data/Info\n",
      "----------------------------------------------------\n",
      "A            csr_matrix                      (0, 0)\t0.97052985\\n  (0<...>  (9999, 9999)\t0.43723622\n",
      "Adim         int                           48\n",
      "b            ndarray                       10000: 10000 elems, type `float64`, 80000 bytes\n",
      "den          float                         1.0\n",
      "dim          int                           10000\n",
      "getsizeof    builtin_function_or_method    <built-in function getsizeof>\n",
      "gmres        function                      <function gmres at 0x7fe98c0da950>\n",
      "local_vars   list                          n=46\n",
      "np           module                        <module 'numpy' from '/us<...>kages/numpy/__init__.py'>\n",
      "obj          str                           local_vars = list(locals().items())\n",
      "os           module                        <module 'os' from '/usr/lib/python3.10/os.py'>\n",
      "res          tuple                         n=2\n",
      "sparse       module                        <module 'scipy.sparse' fr<...>cipy/sparse/__init__.py'>\n",
      "sys          module                        <module 'sys' (built-in)>\n",
      "var          str                           _i8\n",
      "x0           ndarray                       10000: 10000 elems, type `float64`, 80000 bytes\n"
     ]
    }
   ],
   "source": [
    "whos"
   ]
  },
  {
   "cell_type": "code",
   "execution_count": null,
   "metadata": {},
   "outputs": [],
   "source": []
  }
 ],
 "metadata": {
  "kernelspec": {
   "display_name": "Python 3.10.8 64-bit",
   "language": "python",
   "name": "python3"
  },
  "language_info": {
   "codemirror_mode": {
    "name": "ipython",
    "version": 3
   },
   "file_extension": ".py",
   "mimetype": "text/x-python",
   "name": "python",
   "nbconvert_exporter": "python",
   "pygments_lexer": "ipython3",
   "version": "3.10.8"
  },
  "orig_nbformat": 4,
  "vscode": {
   "interpreter": {
    "hash": "e7370f93d1d0cde622a1f8e1c04877d8463912d04d973331ad4851f04de6915a"
   }
  }
 },
 "nbformat": 4,
 "nbformat_minor": 2
}
